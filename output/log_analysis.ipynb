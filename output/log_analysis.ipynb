{
 "cells": [
  {
   "metadata": {},
   "cell_type": "markdown",
   "source": [
    "### 日志分析工具\n",
    "\n",
    "这个Notebook实现了一个文件监控和合并工具，可以递归扫描文件夹并合并特定模式的日"
   ],
   "id": "97d78e68219f88b0"
  },
  {
   "metadata": {},
   "cell_type": "code",
   "outputs": [],
   "execution_count": null,
   "source": [
    "import os\n",
    "from datetime import datetime"
   ],
   "id": "ee39b1b62a5b07c7"
  },
  {
   "metadata": {},
   "cell_type": "markdown",
   "source": [
    "### 定义递归文件处理函数\n",
    "下面的函数实现了递归扫描和合并文件的核心功能。"
   ],
   "id": "796426196f52fad4"
  },
  {
   "metadata": {},
   "cell_type": "code",
   "outputs": [],
   "execution_count": null,
   "source": [
    "def combine_files_recursive(folder_path='.', output_file='combined_logs.txt', file_pattern='error_block_'):\n",
    "    \"\"\"\n",
    "    递归读取文件夹及其子文件夹下的所有指定文件并合并\n",
    "\n",
    "    参数:\n",
    "        folder_path: 要扫描的文件夹路径\n",
    "        output_file: 输出文件名\n",
    "        file_pattern: 要查找的文件名模式\n",
    "    \"\"\"\n",
    "    def get_all_files(path):\n",
    "        \"\"\"递归获取所有符合条件的文件\"\"\"\n",
    "        all_files = []\n",
    "        for root, dirs, files in os.walk(path):\n",
    "            for file in files:\n",
    "                if file.startswith(file_pattern):\n",
    "                    all_files.append(os.path.join(root, file))\n",
    "        return sorted(all_files)  # 按文件路径排序\n",
    "\n",
    "    def write_file_content(input_file, output):\n",
    "        \"\"\"写入单个文件内容\"\"\"\n",
    "        try:\n",
    "            with open(input_file, 'r', encoding='utf-8') as infile:\n",
    "                # 写入文件路径作为分隔\n",
    "                output.write(f\"\\n文件路径: {input_file}\\n\")\n",
    "                output.write(\"-\" * 50 + \"\\n\")\n",
    "                # 写入文件内容\n",
    "                output.write(infile.read())\n",
    "                output.write(\"\\n\\n\")\n",
    "                return True\n",
    "        except Exception as e:\n",
    "            print(f\"处理文件 {input_file} 时出错: {str(e)}\")\n",
    "            return False\n",
    "\n",
    "    # 获取所有符合条件的文件\n",
    "    files = get_all_files(folder_path)\n",
    "\n",
    "    # 写入合并文件\n",
    "    with open(output_file, 'w', encoding='utf-8') as outfile:\n",
    "        # 写入文件头\n",
    "        outfile.write(\"合并日志文件\\n\")\n",
    "        outfile.write(\"=\" * 50 + \"\\n\")\n",
    "        outfile.write(f\"生成时间: {datetime.now().strftime('%Y-%m-%d %H:%M:%S')}\\n\")\n",
    "        outfile.write(f\"源文件夹: {os.path.abspath(folder_path)}\\n\")\n",
    "        outfile.write(\"=\" * 50 + \"\\n\\n\")\n",
    "\n",
    "        # 写入文件内容\n",
    "        success_count = sum(write_file_content(f, outfile) for f in files)\n",
    "\n",
    "        # 写入统计信息\n",
    "        outfile.write(\"\\n\" + \"=\" * 50 + \"\\n\")\n",
    "        outfile.write(f\"处理完成！\\n\")\n",
    "        outfile.write(f\"总文件数: {len(files)}\\n\")\n",
    "        outfile.write(f\"成功处理: {success_count}\\n\")\n",
    "        outfile.write(f\"处理失败: {len(files) - success_count}\\n\")\n",
    "\n",
    "    print(f\"日志已合并保存到 {os.path.abspath(output_file)}\")\n",
    "    return len(files), success_count"
   ],
   "id": "e03c09a0118a532b"
  },
  {
   "metadata": {},
   "cell_type": "markdown",
   "source": [
    "### 定义文件夹监控函数\n",
    "该函数会持续监控指定文件夹，定期执行文"
   ],
   "id": "73faf463462c2e52"
  },
  {
   "metadata": {},
   "cell_type": "code",
   "outputs": [],
   "execution_count": null,
   "source": [
    "def monitor_folder(folder_path='.', output_file='combined_logs.txt', file_pattern='error_block_', interval=60):\n",
    "    \"\"\"\n",
    "    持续监控文件夹，定期合并文件\n",
    "\n",
    "    参数:\n",
    "        folder_path: 要监控的文件夹路径\n",
    "        output_file: 输出文件名\n",
    "        file_pattern: 要查找的文件名模式\n",
    "        interval: 检查间隔（秒）\n",
    "    \"\"\"\n",
    "    print(f\"开始监控文件夹: {os.path.abspath(folder_path)}\")\n",
    "    print(f\"检查间隔: {interval}秒\")\n",
    "    print(\"按 Ctrl+C 停止监控\")\n",
    "\n",
    "    try:\n",
    "        while True:\n",
    "            print(f\"\\n{datetime.now().strftime('%Y-%m-%d %H:%M:%S')} - 开始检查...\")\n",
    "            total, success = combine_files_recursive(folder_path, output_file, file_pattern)\n",
    "            print(f\"发现文件: {total}, 成功处理: {success}\")\n",
    "            time.sleep(interval)\n",
    "\n",
    "    except KeyboardInterrupt:\n",
    "        print(\"\\n监控已"
   ],
   "id": "c2ac6358d03dc5c5"
  },
  {
   "metadata": {},
   "cell_type": "markdown",
   "source": [
    "### 启动监控\n",
    "执行以下代码开始监控文件夹（默认每60"
   ],
   "id": "18c60579a89b0435"
  },
  {
   "metadata": {},
   "cell_type": "code",
   "outputs": [],
   "execution_count": null,
   "source": [
    "# 开始监控文件夹（每60秒检查一次）\n",
    "monitor_folder(interval=60)"
   ],
   "id": "3b21102a247b204c"
  }
 ],
 "metadata": {
  "kernelspec": {
   "display_name": "Python 3",
   "language": "python",
   "name": "python3"
  },
  "language_info": {
   "codemirror_mode": {
    "name": "ipython",
    "version": 2
   },
   "file_extension": ".py",
   "mimetype": "text/x-python",
   "name": "python",
   "nbconvert_exporter": "python",
   "pygments_lexer": "ipython2",
   "version": "2.7.6"
  }
 },
 "nbformat": 4,
 "nbformat_minor": 5
}
