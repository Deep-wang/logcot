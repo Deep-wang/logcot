{
 "cells": [
  {
   "cell_type": "code",
   "id": "initial_id",
   "metadata": {
    "collapsed": true,
    "ExecuteTime": {
     "end_time": "2025-05-21T07:29:23.393106Z",
     "start_time": "2025-05-21T07:29:23.391173Z"
    }
   },
   "source": "import os",
   "outputs": [],
   "execution_count": 1
  },
  {
   "metadata": {},
   "cell_type": "markdown",
   "source": [
    "### 定义日志合并功能\n",
    "以下函数将合并所有以'error_block_'开头的日志文件"
   ],
   "id": "adcac19d60306ae3"
  },
  {
   "metadata": {
    "ExecuteTime": {
     "end_time": "2025-05-21T07:29:25.049947Z",
     "start_time": "2025-05-21T07:29:25.044944Z"
    }
   },
   "cell_type": "code",
   "source": [
    "def combine_log_files(folder_path='/Users/hy_mbp/PycharmProjects/LogDetect/output', output_file='combined_logs.txt'):\n",
    "    \"\"\"\n",
    "    读取文件夹下所有error_block文件并合并保存\n",
    "    \"\"\"\n",
    "    files = [f for f in os.listdir(folder_path) if f.startswith('error_block_')]\n",
    "\n",
    "    files.sort()\n",
    "\n",
    "    with open(output_file, 'w', encoding='utf-8') as outfile:\n",
    "        outfile.write(\"合并日志文件\\n\")\n",
    "        outfile.write(\"=\" * 50 + \"\\n\\n\")\n",
    "\n",
    "        for file in files:\n",
    "            try:\n",
    "                with open(os.path.join(folder_path, file), 'r', encoding='utf-8') as infile:\n",
    "                    outfile.write(f\"\\n文件: {file}\\n\")\n",
    "                    outfile.write(\"-\" * 50 + \"\\n\")\n",
    "                    outfile.write(infile.read())\n",
    "                    outfile.write(\"\\n\\n\")\n",
    "            except Exception as e:\n",
    "                print(f\"处理文件 {file} 时出错: {str(e)}\")\n",
    "\n",
    "    print(f\"日志已合并保存到 {output_file}\")"
   ],
   "id": "fe41d1f0dae04239",
   "outputs": [],
   "execution_count": 2
  },
  {
   "metadata": {
    "ExecuteTime": {
     "end_time": "2025-05-21T07:29:26.978221Z",
     "start_time": "2025-05-21T07:29:26.975281Z"
    }
   },
   "cell_type": "code",
   "source": [
    "# 执行合并操作\n",
    "combine_log_files()"
   ],
   "id": "ba5b3f5e71d41944",
   "outputs": [
    {
     "name": "stdout",
     "output_type": "stream",
     "text": [
      "日志已合并保存到 combined_logs.txt\n"
     ]
    }
   ],
   "execution_count": 3
  },
  {
   "metadata": {},
   "cell_type": "markdown",
   "source": [
    "### 使用说明\n",
    "1. 这个notebook会读取当前目录下所有以'error_block_'开头的文件\n",
    "2. 所有文件内容会按照文件名排序后合并\n",
    "3. 合并后的内容会保存在'combined_logs.txt'文件中\n",
    "4. 每个源文件的内容会用分隔符标记"
   ],
   "id": "2f6974dae4102186"
  }
 ],
 "metadata": {
  "kernelspec": {
   "display_name": "Python 3",
   "language": "python",
   "name": "python3"
  },
  "language_info": {
   "codemirror_mode": {
    "name": "ipython",
    "version": 2
   },
   "file_extension": ".py",
   "mimetype": "text/x-python",
   "name": "python",
   "nbconvert_exporter": "python",
   "pygments_lexer": "ipython2",
   "version": "2.7.6"
  }
 },
 "nbformat": 4,
 "nbformat_minor": 5
}
