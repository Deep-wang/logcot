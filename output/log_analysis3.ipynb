{
 "cells": [
  {
   "cell_type": "code",
   "id": "initial_id",
   "metadata": {
    "collapsed": true,
    "ExecuteTime": {
     "end_time": "2025-05-21T07:33:59.248716Z",
     "start_time": "2025-05-21T07:33:59.244750Z"
    }
   },
   "source": "import os",
   "outputs": [],
   "execution_count": 1
  },
  {
   "metadata": {
    "ExecuteTime": {
     "end_time": "2025-05-21T07:34:24.855803Z",
     "start_time": "2025-05-21T07:34:24.850293Z"
    }
   },
   "cell_type": "code",
   "source": [
    "def combine_files_recursive(folder_path='/Users/hy_mbp/PycharmProjects/LogDetect/output', output_file='combined_logs.txt'):\n",
    "    \"\"\"\n",
    "    递归读取文件夹及其子文件夹下的所有文件并合并\n",
    "\n",
    "    参数:\n",
    "        folder_path: 要扫描的文件夹路径\n",
    "        output_file: 输出文件名\n",
    "    \"\"\"\n",
    "    # 递归获取所有文件\n",
    "    all_files = []\n",
    "    for root, dirs, files in os.walk(folder_path):\n",
    "        for file in files:\n",
    "            if file.endswith(('.txt', '.log')):  # 可以根据需要修改文件扩展名\n",
    "                all_files.append(os.path.join(root, file))\n",
    "\n",
    "    # 按文件路径排序\n",
    "    all_files.sort()\n",
    "\n",
    "    # 合并所有文件\n",
    "    with open(output_file, 'w', encoding='utf-8') as outfile:\n",
    "        for file_path in all_files:\n",
    "            try:\n",
    "                with open(file_path, 'r', encoding='utf-8') as infile:\n",
    "                    outfile.write(infile.read())\n",
    "                    outfile.write('\\n')\n",
    "            except Exception as e:\n",
    "                print(f\"处理文件 {file_path} 时出错: {str(e)}\")\n",
    "\n",
    "    print(f\"文件已合并到: {os.path.abspath(output_file)}\")\n",
    "    print(f\"共处理 {len(all_files)}\")"
   ],
   "id": "662b7512ef15197a",
   "outputs": [],
   "execution_count": 2
  },
  {
   "metadata": {
    "ExecuteTime": {
     "end_time": "2025-05-21T07:34:26.946695Z",
     "start_time": "2025-05-21T07:34:26.915441Z"
    }
   },
   "cell_type": "code",
   "source": [
    "# 执行合并\n",
    "combine_files_recursive()"
   ],
   "id": "3f4d727cfcc02500",
   "outputs": [
    {
     "name": "stdout",
     "output_type": "stream",
     "text": [
      "文件已合并到: /Users/hy_mbp/PycharmProjects/LogDetect/output/combined_logs.txt\n",
      "共处理 123\n"
     ]
    }
   ],
   "execution_count": 3
  },
  {
   "metadata": {},
   "cell_type": "markdown",
   "source": [
    "这个简单的notebook包含了3个代码单元格:\n",
    "1. 导入所需的os模块\n",
    "2. 定义递归合并文件的函数combine_files_recursive()\n",
    "3. 调用函数执行合并操作\n",
    "\n",
    "函数的主要功能是:\n",
    "- 递归扫描指定文件夹及其子文件夹\n",
    "- 查找所有.txt和.log文件\n",
    "- 将所有文件内容合并到一个输出文件中"
   ],
   "id": "629e52ebf45552ec"
  }
 ],
 "metadata": {
  "kernelspec": {
   "display_name": "Python 3",
   "language": "python",
   "name": "python3"
  },
  "language_info": {
   "codemirror_mode": {
    "name": "ipython",
    "version": 2
   },
   "file_extension": ".py",
   "mimetype": "text/x-python",
   "name": "python",
   "nbconvert_exporter": "python",
   "pygments_lexer": "ipython2",
   "version": "2.7.6"
  }
 },
 "nbformat": 4,
 "nbformat_minor": 5
}
