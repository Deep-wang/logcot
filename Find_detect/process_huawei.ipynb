{
 "cells": [
  {
   "cell_type": "code",
   "execution_count": 3,
   "id": "0ba9d062",
   "metadata": {},
   "outputs": [],
   "source": [
    "with open(\"../log/log/log_controller_0_Event.txt\", \"r+\") as f:\n",
    "    info = f.readlines()\n",
    "f.close()\n"
   ]
  },
  {
   "cell_type": "code",
   "execution_count": 10,
   "id": "a8ba6771",
   "metadata": {},
   "outputs": [
    {
     "name": "stdout",
     "output_type": "stream",
     "text": [
      "\n",
      "--- Section 1 ---\n",
      "华为存储的日志（底层硬件）\n",
      "System Name : Huawei.Storage    SN : 2102351LVM9WK3800007    Product Model : 5500 V5    Product Version : V500R007C10    Export time : 2025-04-23 15:01:56\n",
      "Fault list    \n",
      "Sequence    Raised  Local Time    Alarm ID    Type    Alarm Level    State    Recovered Local Time    Description    Suggestion:\n",
      "\n",
      "--- Section 2 ---\n",
      "77490863    2025-04-23 13:05:26    0xF0060004    Fault    Major    Unrecovered    None    FC host port (controller enclosure CTE0, -- controller A, port number H0) is disconnected.\n",
      "Step1 Check cable connections.\n",
      "1.1 If the cable is removed, reinsert it. If the alarm persists=>[1.2]. \n",
      "1.2 If the cable is damaged, replace it. If the alarm persists=>[1.3]. \n",
      "1.3 If the port has an optical module=>[Step2]. If no=>[1.4]. \n",
      "1.4 If no exceptions are detected=>[Step3]. \n",
      "Step2 Check whether optical modules of the peer port are damaged. \n",
      "2.1 Remove and reinsert optical modules of the peer port and reinsert the cables. If the alarm persists=>[2.2]. \n",
      "2.2 Replace the optical module of the peer port one by one and reinsert the cables. If the alarm persists=>[Step3]. \n",
      "Step3 Check the port configuration. \n",
      "3.1 Check whether the topology mode of the port matches that of its peer port. If no, make adaptation adjustment. If the alarm persists=>[3.2]. \n",
      "3.2 Check whether the rate of the port matches that of its peer port. If no, make adaptation adjustment. If the alarm persists=>[Step4]. \n",
      "Step4 Check whether the port and interface module of the two ends connected by the cable are faulty. If yes, rectify the faults. If the alarm persists=>[Step5]. \n",
      "Step5 Contact technical support engineers.\n",
      "\n",
      "--- Section 3 ---\n",
      "76752362    2025-04-02 11:23:38    0xF00EA0015    Fault    Major    Unrecovered    None    FC port optical module (controller enclosure CTE0, -- controller A, port ID H1) cannot be monitored.\n",
      "Step1 Check whether alarms on optical module faults are generated.\n",
      "    1.1 If yes, replace the optical module. If the alarm persists=>[Step2].\n",
      "    1.2 If no=>[Step2].\n",
      "Step2 Check whether the optical module is supported by the device.\n",
      "    2.1 If yes=>[Step3].\n",
      "    2.2 If no, replace the optical module with an optical module supported by the device. If the alarm persists=>[Step3].\n",
      "Step3 Replace the module where the optical module resides. If the alarm persists=>[Step4].\n",
      "Step4 Collect related information and contact technical support engineers.\n"
     ]
    }
   ],
   "source": [
    "import re\n",
    "\n",
    "# 读取原始日志文件\n",
    "with open(\"../log/log/log_controller_0_Event.txt\", \"r+\", encoding='utf-8') as f:\n",
    "    info = f.readlines()\n",
    "\n",
    "# 将所有行合并为一个字符串\n",
    "text = ''.join(info)\n",
    "\n",
    "# 按 8 位数字进行切分（保留分隔符开头）\n",
    "parts = re.split(r'(?=\\b\\d{8}\\b)', text)\n",
    "parts = [p.strip() for p in parts if p.strip()]\n",
    "\n",
    "# 示例：打印每段的前几行，或保存为单独文件\n",
    "for i, part in enumerate(parts[:3]):\n",
    "    print(f\"\\n--- Section {i+1} ---\")\n",
    "    print(part[:])  # 每段只显示前300字符，可根据需要调整\n"
   ]
  },
  {
   "cell_type": "code",
   "execution_count": null,
   "id": "91250080",
   "metadata": {},
   "outputs": [],
   "source": []
  }
 ],
 "metadata": {
  "kernelspec": {
   "display_name": "ds_2024",
   "language": "python",
   "name": "python3"
  },
  "language_info": {
   "codemirror_mode": {
    "name": "ipython",
    "version": 3
   },
   "file_extension": ".py",
   "mimetype": "text/x-python",
   "name": "python",
   "nbconvert_exporter": "python",
   "pygments_lexer": "ipython3",
   "version": "3.10.13"
  }
 },
 "nbformat": 4,
 "nbformat_minor": 5
}
