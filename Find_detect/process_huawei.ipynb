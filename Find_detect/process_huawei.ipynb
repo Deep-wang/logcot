{
 "cells": [
  {
   "cell_type": "code",
   "execution_count": 11,
   "id": "0ba9d062",
   "metadata": {},
   "outputs": [],
   "source": [
    "with open(\"../log/log/log_controller_0_Event.txt\", \"r+\") as f:\n",
    "    info = f.readlines()\n",
    "f.close()\n"
   ]
  },
  {
   "cell_type": "code",
   "execution_count": 25,
   "id": "a8ba6771",
   "metadata": {},
   "outputs": [],
   "source": [
    "import re\n",
    "import pandas as pd\n",
    "# 读取原始日志文件\n",
    "with open(\"../log/log/log_controller_0_Event.txt\", \"r+\", encoding='utf-8') as f:\n",
    "    info = f.readlines()\n",
    "\n",
    "# 将所有行合并为一个字符串\n",
    "text = ''.join(info)\n",
    "\n",
    "# 按 8 位数字进行切分（保留分隔符开头）\n",
    "parts = re.split(r'(?=\\b\\d{8}\\b)', text)\n",
    "parts = [p.strip() for p in parts if p.strip()]\n",
    "\n",
    "df_huawei = []\n",
    "# 示例：打印每段的前几行，或保存为单独文件\n",
    "for i, part in enumerate(parts[:]):\n",
    "    # print(f\"\\n--- Section {i+1} ---\")\n",
    "    # print(part[:100])  # 每段只显示前300字符，可根据需要调整\n",
    "    df_huawei.append(part)"
   ]
  },
  {
   "cell_type": "code",
   "execution_count": 28,
   "id": "08766a54",
   "metadata": {},
   "outputs": [],
   "source": [
    "df_huawei = pd.DataFrame(df_huawei)\n",
    "df_huawei.to_excel(\"../log/OUTPUT_FILE/log_huawei.xlsx\")"
   ]
  },
  {
   "cell_type": "code",
   "execution_count": 31,
   "id": "6af4ce6d",
   "metadata": {},
   "outputs": [
    {
     "data": {
      "text/plain": [
       "'77490863    2025-04-23 13:05:26    0xF0060004    Fault    Major    Unrecovered    None    FC host port (controller enclosure CTE0, -- controller A, port number H0) is disconnected.\\nStep1 Check cable connections.\\n1.1 If the cable is removed, reinsert it. If the alarm persists=>[1.2]. \\n1.2 If the cable is damaged, replace it. If the alarm persists=>[1.3]. \\n1.3 If the port has an optical module=>[Step2]. If no=>[1.4]. \\n1.4 If no exceptions are detected=>[Step3]. \\nStep2 Check whether optical modules of the peer port are damaged. \\n2.1 Remove and reinsert optical modules of the peer port and reinsert the cables. If the alarm persists=>[2.2]. \\n2.2 Replace the optical module of the peer port one by one and reinsert the cables. If the alarm persists=>[Step3]. \\nStep3 Check the port configuration. \\n3.1 Check whether the topology mode of the port matches that of its peer port. If no, make adaptation adjustment. If the alarm persists=>[3.2]. \\n3.2 Check whether the rate of the port matches that of its peer port. If no, make adaptation adjustment. If the alarm persists=>[Step4]. \\nStep4 Check whether the port and interface module of the two ends connected by the cable are faulty. If yes, rectify the faults. If the alarm persists=>[Step5]. \\nStep5 Contact technical support engineers.'"
      ]
     },
     "execution_count": 31,
     "metadata": {},
     "output_type": "execute_result"
    }
   ],
   "source": [
    "df_huawei.iloc[1][0]"
   ]
  },
  {
   "cell_type": "code",
   "execution_count": null,
   "id": "d688c6c9",
   "metadata": {},
   "outputs": [
    {
     "data": {
      "text/plain": [
       "'77493432    2025-04-23 14:46:08    0x100F0015001C    Event    Major    --    None    UltraPath push information from host (ID 6) is not received at the preset time point or fails to be processed.\\nStep1 Install UltraPath of the latest version on the host. If the fault persists=>[Step2]. \\nStep2 Collect related information and contact technical support engineers.'"
      ]
     },
     "execution_count": 22,
     "metadata": {},
     "output_type": "execute_result"
    }
   ],
   "source": [
    "parts[1]"
   ]
  },
  {
   "cell_type": "code",
   "execution_count": null,
   "id": "91250080",
   "metadata": {},
   "outputs": [],
   "source": []
  }
 ],
 "metadata": {
  "kernelspec": {
   "display_name": "ds_2024",
   "language": "python",
   "name": "python3"
  },
  "language_info": {
   "codemirror_mode": {
    "name": "ipython",
    "version": 3
   },
   "file_extension": ".py",
   "mimetype": "text/x-python",
   "name": "python",
   "nbconvert_exporter": "python",
   "pygments_lexer": "ipython3",
   "version": "3.10.13"
  }
 },
 "nbformat": 4,
 "nbformat_minor": 5
}
