{
 "cells": [
  {
   "cell_type": "code",
   "execution_count": 10,
   "id": "initial_id",
   "metadata": {
    "collapsed": true,
    "ExecuteTime": {
     "end_time": "2025-05-29T20:08:39.820876500Z",
     "start_time": "2025-05-29T20:08:39.814084100Z"
    }
   },
   "outputs": [],
   "source": [
    "import os\n",
    "import json\n",
    "import re\n",
    "from log_parser import parse_log_line\n",
    "import pandas as pd\n",
    "import matplotlib.pyplot as plt\n",
    "from skimage import io\n",
    "import seaborn as sns\n",
    "import warnings\n",
    "import numpy as np\n",
    "import warnings\n",
    "import seaborn as sns\n",
    "import numpy as np\n",
    "import matplotlib.pyplot as plt\n",
    "import warnings\n",
    "from pylab import mpl, plt\n",
    "import matplotlib.patches as mpatches\n",
    "\n",
    "# best font and style settings for notebook \n",
    "warnings.filterwarnings('ignore')\n",
    "sns.set_style(\"white\")\n",
    "mpl.rcParams['font.family'] = 'MiSans'"
   ]
  },
  {
   "cell_type": "code",
   "outputs": [
    {
     "name": "stdout",
     "output_type": "stream",
     "text": [
      "共找到 3 个日志文件\n",
      "成功解析出 64050 条日志记录\n"
     ]
    }
   ],
   "source": [
    "# 设置日志主目录\n",
    "# log_root_path = r\".\\2025_5_8_log_all\"\n",
    "# log_root_path = r\"logcot/Find_detect/output_528/error_logs\"\n",
    "log_root_path = r\"../../log/log\"\n",
    "log_extensions = (\".log\", \".txt\", \".out\")\n",
    "all_log_files = []\n",
    "\n",
    "# 扫描所有日志文件路径\n",
    "for root, dirs, files in os.walk(log_root_path):\n",
    "    for file in files:\n",
    "        if file.lower().endswith(log_extensions):\n",
    "            full_path = os.path.join(root, file)\n",
    "            all_log_files.append(full_path)\n",
    "\n",
    "print(f\"共找到 {len(all_log_files)} 个日志文件\")\n",
    "# print(all_log_files)\n",
    "\n",
    "# 收集所有解析后的日志\n",
    "parsed_logs = []\n",
    "\n",
    "for path in all_log_files:\n",
    "    with open(path, 'r', encoding='utf-8', errors='ignore') as f:\n",
    "        for line in f:\n",
    "            parsed = parse_log_line(line, source_file=path)\n",
    "            if parsed:\n",
    "                parsed_logs.append(parsed)\n",
    "\n",
    "print(f\"成功解析出 {len(parsed_logs)} 条日志记录\")"
   ],
   "metadata": {
    "collapsed": false,
    "ExecuteTime": {
     "end_time": "2025-05-29T20:10:37.635458300Z",
     "start_time": "2025-05-29T20:10:37.570457700Z"
    }
   },
   "id": "cf45b11c950d7117",
   "execution_count": 13
  },
  {
   "cell_type": "code",
   "outputs": [
    {
     "data": {
      "text/plain": "['../../log/log\\\\database.log',\n '../../log/log\\\\log_controller_0_Event.txt',\n '../../log/log\\\\resampled_sample.txt']"
     },
     "execution_count": 14,
     "metadata": {},
     "output_type": "execute_result"
    }
   ],
   "source": [
    "all_log_files"
   ],
   "metadata": {
    "collapsed": false,
    "ExecuteTime": {
     "end_time": "2025-05-29T20:10:39.693410400Z",
     "start_time": "2025-05-29T20:10:39.681264100Z"
    }
   },
   "id": "a73d17c9a7331021",
   "execution_count": 14
  },
  {
   "cell_type": "markdown",
   "source": [
    "## 单条log案例"
   ],
   "metadata": {
    "collapsed": false
   },
   "id": "319d7021061b7e92"
  },
  {
   "cell_type": "code",
   "outputs": [],
   "source": [
    "all_log_df = pd.DataFrame(parsed_logs)"
   ],
   "metadata": {
    "collapsed": false,
    "ExecuteTime": {
     "end_time": "2025-05-29T20:10:44.170653500Z",
     "start_time": "2025-05-29T20:10:44.132139600Z"
    }
   },
   "id": "dfee15936bdcc6cb",
   "execution_count": 15
  },
  {
   "cell_type": "code",
   "outputs": [
    {
     "data": {
      "text/plain": "Index(['source', 'log'], dtype='object')"
     },
     "execution_count": 16,
     "metadata": {},
     "output_type": "execute_result"
    }
   ],
   "source": [
    "all_log_df.columns"
   ],
   "metadata": {
    "collapsed": false,
    "ExecuteTime": {
     "end_time": "2025-05-29T20:10:44.925202600Z",
     "start_time": "2025-05-29T20:10:44.919155400Z"
    }
   },
   "id": "1e7fd95cbb2803ee",
   "execution_count": 16
  },
  {
   "cell_type": "code",
   "outputs": [],
   "source": [
    "# 假设 all_log_df['content'] 已经是日志内容的列\n",
    "# 使用正则表达式提取前面的时间戳部分\n",
    "all_log_df['timestamp'] = all_log_df['log'].str.extract(r'(\\d{4}-\\d{2}-\\d{2} \\d{2}:\\d{2}:\\d{2})')"
   ],
   "metadata": {
    "collapsed": false,
    "ExecuteTime": {
     "end_time": "2025-05-29T20:10:46.846071400Z",
     "start_time": "2025-05-29T20:10:46.771422400Z"
    }
   },
   "id": "73d78eafeaa4d4f6",
   "execution_count": 17
  },
  {
   "cell_type": "code",
   "outputs": [],
   "source": [
    "all_log_df['timestamp'] = pd.to_datetime(all_log_df['timestamp'], errors='coerce')\n"
   ],
   "metadata": {
    "collapsed": false,
    "ExecuteTime": {
     "end_time": "2025-05-29T20:10:48.166831500Z",
     "start_time": "2025-05-29T20:10:48.145687500Z"
    }
   },
   "id": "ceccb2d617b74daf",
   "execution_count": 18
  },
  {
   "cell_type": "code",
   "outputs": [
    {
     "data": {
      "text/plain": "                                         source  \\\n53978  ../../log/log\\log_controller_0_Event.txt   \n53976  ../../log/log\\log_controller_0_Event.txt   \n53926  ../../log/log\\log_controller_0_Event.txt   \n53932  ../../log/log\\log_controller_0_Event.txt   \n53930  ../../log/log\\log_controller_0_Event.txt   \n...                                         ...   \n64045        ../../log/log\\resampled_sample.txt   \n64046        ../../log/log\\resampled_sample.txt   \n64047        ../../log/log\\resampled_sample.txt   \n64048        ../../log/log\\resampled_sample.txt   \n64049        ../../log/log\\resampled_sample.txt   \n\n                                                     log           timestamp  \n53978  1    2019-03-18 13:50:18    0xF0000601    Diag... 2019-03-18 13:50:18  \n53976  4    2019-03-18 13:50:28    0xF0000601    Diag... 2019-03-18 13:50:28  \n53926  13    2019-03-18 13:50:50    0x100F00A000F    ... 2019-03-18 13:50:50  \n53932  10    2019-03-18 13:50:50    0x100F00A000F    ... 2019-03-18 13:50:50  \n53930  11    2019-03-18 13:50:50    0x100F00A000F    ... 2019-03-18 13:50:50  \n...                                                  ...                 ...  \n64045  2025-04-23T16:44:01.569323+08:00 Dky_app_00 li...                 NaT  \n64046  2025-04-23T16:44:01.569345+08:00 Dky_app_00 li...                 NaT  \n64047  2025-04-23T16:44:01.573140+08:00 Dky_app_00 li...                 NaT  \n64048  2025-04-23T16:44:01.573172+08:00 Dky_app_00 li...                 NaT  \n64049  2025-04-23T16:44:01.573193+08:00 Dky_app_00 li...                 NaT  \n\n[64050 rows x 3 columns]",
      "text/html": "<div>\n<style scoped>\n    .dataframe tbody tr th:only-of-type {\n        vertical-align: middle;\n    }\n\n    .dataframe tbody tr th {\n        vertical-align: top;\n    }\n\n    .dataframe thead th {\n        text-align: right;\n    }\n</style>\n<table border=\"1\" class=\"dataframe\">\n  <thead>\n    <tr style=\"text-align: right;\">\n      <th></th>\n      <th>source</th>\n      <th>log</th>\n      <th>timestamp</th>\n    </tr>\n  </thead>\n  <tbody>\n    <tr>\n      <th>53978</th>\n      <td>../../log/log\\log_controller_0_Event.txt</td>\n      <td>1    2019-03-18 13:50:18    0xF0000601    Diag...</td>\n      <td>2019-03-18 13:50:18</td>\n    </tr>\n    <tr>\n      <th>53976</th>\n      <td>../../log/log\\log_controller_0_Event.txt</td>\n      <td>4    2019-03-18 13:50:28    0xF0000601    Diag...</td>\n      <td>2019-03-18 13:50:28</td>\n    </tr>\n    <tr>\n      <th>53926</th>\n      <td>../../log/log\\log_controller_0_Event.txt</td>\n      <td>13    2019-03-18 13:50:50    0x100F00A000F    ...</td>\n      <td>2019-03-18 13:50:50</td>\n    </tr>\n    <tr>\n      <th>53932</th>\n      <td>../../log/log\\log_controller_0_Event.txt</td>\n      <td>10    2019-03-18 13:50:50    0x100F00A000F    ...</td>\n      <td>2019-03-18 13:50:50</td>\n    </tr>\n    <tr>\n      <th>53930</th>\n      <td>../../log/log\\log_controller_0_Event.txt</td>\n      <td>11    2019-03-18 13:50:50    0x100F00A000F    ...</td>\n      <td>2019-03-18 13:50:50</td>\n    </tr>\n    <tr>\n      <th>...</th>\n      <td>...</td>\n      <td>...</td>\n      <td>...</td>\n    </tr>\n    <tr>\n      <th>64045</th>\n      <td>../../log/log\\resampled_sample.txt</td>\n      <td>2025-04-23T16:44:01.569323+08:00 Dky_app_00 li...</td>\n      <td>NaT</td>\n    </tr>\n    <tr>\n      <th>64046</th>\n      <td>../../log/log\\resampled_sample.txt</td>\n      <td>2025-04-23T16:44:01.569345+08:00 Dky_app_00 li...</td>\n      <td>NaT</td>\n    </tr>\n    <tr>\n      <th>64047</th>\n      <td>../../log/log\\resampled_sample.txt</td>\n      <td>2025-04-23T16:44:01.573140+08:00 Dky_app_00 li...</td>\n      <td>NaT</td>\n    </tr>\n    <tr>\n      <th>64048</th>\n      <td>../../log/log\\resampled_sample.txt</td>\n      <td>2025-04-23T16:44:01.573172+08:00 Dky_app_00 li...</td>\n      <td>NaT</td>\n    </tr>\n    <tr>\n      <th>64049</th>\n      <td>../../log/log\\resampled_sample.txt</td>\n      <td>2025-04-23T16:44:01.573193+08:00 Dky_app_00 li...</td>\n      <td>NaT</td>\n    </tr>\n  </tbody>\n</table>\n<p>64050 rows × 3 columns</p>\n</div>"
     },
     "execution_count": 19,
     "metadata": {},
     "output_type": "execute_result"
    }
   ],
   "source": [
    "all_log_df.sort_values('timestamp')"
   ],
   "metadata": {
    "collapsed": false,
    "ExecuteTime": {
     "end_time": "2025-05-29T20:10:50.184820200Z",
     "start_time": "2025-05-29T20:10:50.159895200Z"
    }
   },
   "id": "dcc9bc7ebc625e65",
   "execution_count": 19
  },
  {
   "cell_type": "code",
   "outputs": [
    {
     "data": {
      "text/plain": "                                        source  \\\n9819  ../../log/log\\log_controller_0_Event.txt   \n9821  ../../log/log\\log_controller_0_Event.txt   \n9823  ../../log/log\\log_controller_0_Event.txt   \n9825  ../../log/log\\log_controller_0_Event.txt   \n9827  ../../log/log\\log_controller_0_Event.txt   \n9829  ../../log/log\\log_controller_0_Event.txt   \n9831  ../../log/log\\log_controller_0_Event.txt   \n9833  ../../log/log\\log_controller_0_Event.txt   \n\n                                                    log           timestamp  \n9819  64701179    2024-04-23 15:23:15    0x200F002A0... 2024-04-23 15:23:15  \n9821  64700669    2024-04-23 15:02:17    0x200F002A0... 2024-04-23 15:02:17  \n9823  64700536    2024-04-23 14:56:55    0x200F002A0... 2024-04-23 14:56:55  \n9825  64700281    2024-04-23 14:46:26    0x200F002A0... 2024-04-23 14:46:26  \n9827  64684742    2024-04-23 04:07:38    0x200F002A0... 2024-04-23 04:07:38  \n9829  64684741    2024-04-23 04:07:38    0x200F002A0... 2024-04-23 04:07:38  \n9831  64684578    2024-04-23 04:01:02    0x200F002A0... 2024-04-23 04:01:02  \n9833  64684577    2024-04-23 04:01:02    0x200F002A0... 2024-04-23 04:01:02  ",
      "text/html": "<div>\n<style scoped>\n    .dataframe tbody tr th:only-of-type {\n        vertical-align: middle;\n    }\n\n    .dataframe tbody tr th {\n        vertical-align: top;\n    }\n\n    .dataframe thead th {\n        text-align: right;\n    }\n</style>\n<table border=\"1\" class=\"dataframe\">\n  <thead>\n    <tr style=\"text-align: right;\">\n      <th></th>\n      <th>source</th>\n      <th>log</th>\n      <th>timestamp</th>\n    </tr>\n  </thead>\n  <tbody>\n    <tr>\n      <th>9819</th>\n      <td>../../log/log\\log_controller_0_Event.txt</td>\n      <td>64701179    2024-04-23 15:23:15    0x200F002A0...</td>\n      <td>2024-04-23 15:23:15</td>\n    </tr>\n    <tr>\n      <th>9821</th>\n      <td>../../log/log\\log_controller_0_Event.txt</td>\n      <td>64700669    2024-04-23 15:02:17    0x200F002A0...</td>\n      <td>2024-04-23 15:02:17</td>\n    </tr>\n    <tr>\n      <th>9823</th>\n      <td>../../log/log\\log_controller_0_Event.txt</td>\n      <td>64700536    2024-04-23 14:56:55    0x200F002A0...</td>\n      <td>2024-04-23 14:56:55</td>\n    </tr>\n    <tr>\n      <th>9825</th>\n      <td>../../log/log\\log_controller_0_Event.txt</td>\n      <td>64700281    2024-04-23 14:46:26    0x200F002A0...</td>\n      <td>2024-04-23 14:46:26</td>\n    </tr>\n    <tr>\n      <th>9827</th>\n      <td>../../log/log\\log_controller_0_Event.txt</td>\n      <td>64684742    2024-04-23 04:07:38    0x200F002A0...</td>\n      <td>2024-04-23 04:07:38</td>\n    </tr>\n    <tr>\n      <th>9829</th>\n      <td>../../log/log\\log_controller_0_Event.txt</td>\n      <td>64684741    2024-04-23 04:07:38    0x200F002A0...</td>\n      <td>2024-04-23 04:07:38</td>\n    </tr>\n    <tr>\n      <th>9831</th>\n      <td>../../log/log\\log_controller_0_Event.txt</td>\n      <td>64684578    2024-04-23 04:01:02    0x200F002A0...</td>\n      <td>2024-04-23 04:01:02</td>\n    </tr>\n    <tr>\n      <th>9833</th>\n      <td>../../log/log\\log_controller_0_Event.txt</td>\n      <td>64684577    2024-04-23 04:01:02    0x200F002A0...</td>\n      <td>2024-04-23 04:01:02</td>\n    </tr>\n  </tbody>\n</table>\n</div>"
     },
     "execution_count": 20,
     "metadata": {},
     "output_type": "execute_result"
    }
   ],
   "source": [
    "# 提取日期为 2024-04-23 的行\n",
    "logs_on_0423 = all_log_df[all_log_df['timestamp'].dt.date == pd.to_datetime('2024-04-23').date()]\n",
    "logs_on_0423"
   ],
   "metadata": {
    "collapsed": false,
    "ExecuteTime": {
     "end_time": "2025-05-29T20:10:52.681862700Z",
     "start_time": "2025-05-29T20:10:52.637861800Z"
    }
   },
   "id": "289687b59cca6c6a",
   "execution_count": 20
  },
  {
   "cell_type": "code",
   "outputs": [
    {
     "data": {
      "text/plain": "                                    source  \\\n0              logcot/log\\log\\database.log   \n1              logcot/log\\log\\database.log   \n2              logcot/log\\log\\database.log   \n3              logcot/log\\log\\database.log   \n4              logcot/log\\log\\database.log   \n...                                    ...   \n64045  logcot/log\\log\\resampled_sample.txt   \n64046  logcot/log\\log\\resampled_sample.txt   \n64047  logcot/log\\log\\resampled_sample.txt   \n64048  logcot/log\\log\\resampled_sample.txt   \n64049  logcot/log\\log\\resampled_sample.txt   \n\n                                                     log           timestamp  \n0                                                  数据库日志                 NaT  \n1      2025-04-23 14:42:36.060 [INFO] database P00000... 2025-04-23 14:42:36  \n2      2025-04-23 14:42:36.073 [INFO] database P00000... 2025-04-23 14:42:36  \n3      2025-04-23 14:42:48.023 [INFO] database P00000... 2025-04-23 14:42:48  \n4      2025-04-23 14:42:48.023 [INFO] database P00000... 2025-04-23 14:42:48  \n...                                                  ...                 ...  \n64045  2025-04-23T16:44:01.569323+08:00 Dky_app_00 li...                 NaT  \n64046  2025-04-23T16:44:01.569345+08:00 Dky_app_00 li...                 NaT  \n64047  2025-04-23T16:44:01.573140+08:00 Dky_app_00 li...                 NaT  \n64048  2025-04-23T16:44:01.573172+08:00 Dky_app_00 li...                 NaT  \n64049  2025-04-23T16:44:01.573193+08:00 Dky_app_00 li...                 NaT  \n\n[64050 rows x 3 columns]",
      "text/html": "<div>\n<style scoped>\n    .dataframe tbody tr th:only-of-type {\n        vertical-align: middle;\n    }\n\n    .dataframe tbody tr th {\n        vertical-align: top;\n    }\n\n    .dataframe thead th {\n        text-align: right;\n    }\n</style>\n<table border=\"1\" class=\"dataframe\">\n  <thead>\n    <tr style=\"text-align: right;\">\n      <th></th>\n      <th>source</th>\n      <th>log</th>\n      <th>timestamp</th>\n    </tr>\n  </thead>\n  <tbody>\n    <tr>\n      <th>0</th>\n      <td>logcot/log\\log\\database.log</td>\n      <td>数据库日志</td>\n      <td>NaT</td>\n    </tr>\n    <tr>\n      <th>1</th>\n      <td>logcot/log\\log\\database.log</td>\n      <td>2025-04-23 14:42:36.060 [INFO] database P00000...</td>\n      <td>2025-04-23 14:42:36</td>\n    </tr>\n    <tr>\n      <th>2</th>\n      <td>logcot/log\\log\\database.log</td>\n      <td>2025-04-23 14:42:36.073 [INFO] database P00000...</td>\n      <td>2025-04-23 14:42:36</td>\n    </tr>\n    <tr>\n      <th>3</th>\n      <td>logcot/log\\log\\database.log</td>\n      <td>2025-04-23 14:42:48.023 [INFO] database P00000...</td>\n      <td>2025-04-23 14:42:48</td>\n    </tr>\n    <tr>\n      <th>4</th>\n      <td>logcot/log\\log\\database.log</td>\n      <td>2025-04-23 14:42:48.023 [INFO] database P00000...</td>\n      <td>2025-04-23 14:42:48</td>\n    </tr>\n    <tr>\n      <th>...</th>\n      <td>...</td>\n      <td>...</td>\n      <td>...</td>\n    </tr>\n    <tr>\n      <th>64045</th>\n      <td>logcot/log\\log\\resampled_sample.txt</td>\n      <td>2025-04-23T16:44:01.569323+08:00 Dky_app_00 li...</td>\n      <td>NaT</td>\n    </tr>\n    <tr>\n      <th>64046</th>\n      <td>logcot/log\\log\\resampled_sample.txt</td>\n      <td>2025-04-23T16:44:01.569345+08:00 Dky_app_00 li...</td>\n      <td>NaT</td>\n    </tr>\n    <tr>\n      <th>64047</th>\n      <td>logcot/log\\log\\resampled_sample.txt</td>\n      <td>2025-04-23T16:44:01.573140+08:00 Dky_app_00 li...</td>\n      <td>NaT</td>\n    </tr>\n    <tr>\n      <th>64048</th>\n      <td>logcot/log\\log\\resampled_sample.txt</td>\n      <td>2025-04-23T16:44:01.573172+08:00 Dky_app_00 li...</td>\n      <td>NaT</td>\n    </tr>\n    <tr>\n      <th>64049</th>\n      <td>logcot/log\\log\\resampled_sample.txt</td>\n      <td>2025-04-23T16:44:01.573193+08:00 Dky_app_00 li...</td>\n      <td>NaT</td>\n    </tr>\n  </tbody>\n</table>\n<p>64050 rows × 3 columns</p>\n</div>"
     },
     "execution_count": 79,
     "metadata": {},
     "output_type": "execute_result"
    }
   ],
   "source": [
    "all_log_df"
   ],
   "metadata": {
    "collapsed": false,
    "ExecuteTime": {
     "end_time": "2025-05-29T19:26:40.096785300Z",
     "start_time": "2025-05-29T19:26:40.041783700Z"
    }
   },
   "id": "bb31475ccdfb6b3c",
   "execution_count": 79
  },
  {
   "cell_type": "code",
   "outputs": [
    {
     "data": {
      "text/plain": "'logcot/log\\\\log\\\\database.log'"
     },
     "execution_count": 80,
     "metadata": {},
     "output_type": "execute_result"
    }
   ],
   "source": [
    "all_log_df['source'][0]"
   ],
   "metadata": {
    "collapsed": false,
    "ExecuteTime": {
     "end_time": "2025-05-29T19:26:40.150503Z",
     "start_time": "2025-05-29T19:26:40.057784Z"
    }
   },
   "id": "a0cadbe1bdbb751d",
   "execution_count": 80
  },
  {
   "cell_type": "code",
   "outputs": [],
   "source": [
    "# 提取 source 列中的第二级目录名\n",
    "all_log_df['source_type'] = all_log_df['source'].str.extract(r'^[.\\\\\\/]*[^\\\\\\/]+[\\\\\\/]+([^\\\\\\/]+)[\\\\\\/]')\n"
   ],
   "metadata": {
    "collapsed": false,
    "ExecuteTime": {
     "end_time": "2025-05-29T19:26:40.228511400Z",
     "start_time": "2025-05-29T19:26:40.071784400Z"
    }
   },
   "id": "a81d47d7c81b73da",
   "execution_count": 81
  },
  {
   "cell_type": "code",
   "outputs": [
    {
     "data": {
      "text/plain": "                                        source  \\\n1                  logcot/log\\log\\database.log   \n2                  logcot/log\\log\\database.log   \n3                  logcot/log\\log\\database.log   \n4                  logcot/log\\log\\database.log   \n5                  logcot/log\\log\\database.log   \n..                                         ...   \n865  logcot/log\\log\\log_controller_0_Event.txt   \n867  logcot/log\\log\\log_controller_0_Event.txt   \n869  logcot/log\\log\\log_controller_0_Event.txt   \n871  logcot/log\\log\\log_controller_0_Event.txt   \n873  logcot/log\\log\\log_controller_0_Event.txt   \n\n                                                   log           timestamp  \\\n1    2025-04-23 14:42:36.060 [INFO] database P00000... 2025-04-23 14:42:36   \n2    2025-04-23 14:42:36.073 [INFO] database P00000... 2025-04-23 14:42:36   \n3    2025-04-23 14:42:48.023 [INFO] database P00000... 2025-04-23 14:42:48   \n4    2025-04-23 14:42:48.023 [INFO] database P00000... 2025-04-23 14:42:48   \n5    2025-04-23 14:42:48.023 [INFO] database P00000... 2025-04-23 14:42:48   \n..                                                 ...                 ...   \n865  77489730    2025-04-23 12:19:34    0x200F002A0... 2025-04-23 12:19:34   \n867  77477740    2025-04-23 04:07:11    0x200F002A0... 2025-04-23 04:07:11   \n869  77477739    2025-04-23 04:07:11    0x200F002A0... 2025-04-23 04:07:11   \n871  77477589    2025-04-23 04:01:02    0x200F002A0... 2025-04-23 04:01:02   \n873  77477588    2025-04-23 04:01:01    0x200F002A0... 2025-04-23 04:01:01   \n\n    source_type  \n1           log  \n2           log  \n3           log  \n4           log  \n5           log  \n..          ...  \n865         log  \n867         log  \n869         log  \n871         log  \n873         log  \n\n[627 rows x 4 columns]",
      "text/html": "<div>\n<style scoped>\n    .dataframe tbody tr th:only-of-type {\n        vertical-align: middle;\n    }\n\n    .dataframe tbody tr th {\n        vertical-align: top;\n    }\n\n    .dataframe thead th {\n        text-align: right;\n    }\n</style>\n<table border=\"1\" class=\"dataframe\">\n  <thead>\n    <tr style=\"text-align: right;\">\n      <th></th>\n      <th>source</th>\n      <th>log</th>\n      <th>timestamp</th>\n      <th>source_type</th>\n    </tr>\n  </thead>\n  <tbody>\n    <tr>\n      <th>1</th>\n      <td>logcot/log\\log\\database.log</td>\n      <td>2025-04-23 14:42:36.060 [INFO] database P00000...</td>\n      <td>2025-04-23 14:42:36</td>\n      <td>log</td>\n    </tr>\n    <tr>\n      <th>2</th>\n      <td>logcot/log\\log\\database.log</td>\n      <td>2025-04-23 14:42:36.073 [INFO] database P00000...</td>\n      <td>2025-04-23 14:42:36</td>\n      <td>log</td>\n    </tr>\n    <tr>\n      <th>3</th>\n      <td>logcot/log\\log\\database.log</td>\n      <td>2025-04-23 14:42:48.023 [INFO] database P00000...</td>\n      <td>2025-04-23 14:42:48</td>\n      <td>log</td>\n    </tr>\n    <tr>\n      <th>4</th>\n      <td>logcot/log\\log\\database.log</td>\n      <td>2025-04-23 14:42:48.023 [INFO] database P00000...</td>\n      <td>2025-04-23 14:42:48</td>\n      <td>log</td>\n    </tr>\n    <tr>\n      <th>5</th>\n      <td>logcot/log\\log\\database.log</td>\n      <td>2025-04-23 14:42:48.023 [INFO] database P00000...</td>\n      <td>2025-04-23 14:42:48</td>\n      <td>log</td>\n    </tr>\n    <tr>\n      <th>...</th>\n      <td>...</td>\n      <td>...</td>\n      <td>...</td>\n      <td>...</td>\n    </tr>\n    <tr>\n      <th>865</th>\n      <td>logcot/log\\log\\log_controller_0_Event.txt</td>\n      <td>77489730    2025-04-23 12:19:34    0x200F002A0...</td>\n      <td>2025-04-23 12:19:34</td>\n      <td>log</td>\n    </tr>\n    <tr>\n      <th>867</th>\n      <td>logcot/log\\log\\log_controller_0_Event.txt</td>\n      <td>77477740    2025-04-23 04:07:11    0x200F002A0...</td>\n      <td>2025-04-23 04:07:11</td>\n      <td>log</td>\n    </tr>\n    <tr>\n      <th>869</th>\n      <td>logcot/log\\log\\log_controller_0_Event.txt</td>\n      <td>77477739    2025-04-23 04:07:11    0x200F002A0...</td>\n      <td>2025-04-23 04:07:11</td>\n      <td>log</td>\n    </tr>\n    <tr>\n      <th>871</th>\n      <td>logcot/log\\log\\log_controller_0_Event.txt</td>\n      <td>77477589    2025-04-23 04:01:02    0x200F002A0...</td>\n      <td>2025-04-23 04:01:02</td>\n      <td>log</td>\n    </tr>\n    <tr>\n      <th>873</th>\n      <td>logcot/log\\log\\log_controller_0_Event.txt</td>\n      <td>77477588    2025-04-23 04:01:01    0x200F002A0...</td>\n      <td>2025-04-23 04:01:01</td>\n      <td>log</td>\n    </tr>\n  </tbody>\n</table>\n<p>627 rows × 4 columns</p>\n</div>"
     },
     "execution_count": 82,
     "metadata": {},
     "output_type": "execute_result"
    }
   ],
   "source": [
    "all_log_df[all_log_df['timestamp'].dt.date == pd.to_datetime('2025-04-23').date()]"
   ],
   "metadata": {
    "collapsed": false,
    "ExecuteTime": {
     "end_time": "2025-05-29T19:26:40.264510900Z",
     "start_time": "2025-05-29T19:26:40.229513400Z"
    }
   },
   "id": "2751bf311f6a654b",
   "execution_count": 82
  },
  {
   "cell_type": "code",
   "outputs": [
    {
     "data": {
      "text/plain": "                                    source  \\\n0              logcot/log\\log\\database.log   \n1              logcot/log\\log\\database.log   \n2              logcot/log\\log\\database.log   \n3              logcot/log\\log\\database.log   \n4              logcot/log\\log\\database.log   \n...                                    ...   \n64045  logcot/log\\log\\resampled_sample.txt   \n64046  logcot/log\\log\\resampled_sample.txt   \n64047  logcot/log\\log\\resampled_sample.txt   \n64048  logcot/log\\log\\resampled_sample.txt   \n64049  logcot/log\\log\\resampled_sample.txt   \n\n                                                     log           timestamp  \\\n0                                                  数据库日志                 NaT   \n1      2025-04-23 14:42:36.060 [INFO] database P00000... 2025-04-23 14:42:36   \n2      2025-04-23 14:42:36.073 [INFO] database P00000... 2025-04-23 14:42:36   \n3      2025-04-23 14:42:48.023 [INFO] database P00000... 2025-04-23 14:42:48   \n4      2025-04-23 14:42:48.023 [INFO] database P00000... 2025-04-23 14:42:48   \n...                                                  ...                 ...   \n64045  2025-04-23T16:44:01.569323+08:00 Dky_app_00 li...                 NaT   \n64046  2025-04-23T16:44:01.569345+08:00 Dky_app_00 li...                 NaT   \n64047  2025-04-23T16:44:01.573140+08:00 Dky_app_00 li...                 NaT   \n64048  2025-04-23T16:44:01.573172+08:00 Dky_app_00 li...                 NaT   \n64049  2025-04-23T16:44:01.573193+08:00 Dky_app_00 li...                 NaT   \n\n      source_type  \n0             log  \n1             log  \n2             log  \n3             log  \n4             log  \n...           ...  \n64045         log  \n64046         log  \n64047         log  \n64048         log  \n64049         log  \n\n[64050 rows x 4 columns]",
      "text/html": "<div>\n<style scoped>\n    .dataframe tbody tr th:only-of-type {\n        vertical-align: middle;\n    }\n\n    .dataframe tbody tr th {\n        vertical-align: top;\n    }\n\n    .dataframe thead th {\n        text-align: right;\n    }\n</style>\n<table border=\"1\" class=\"dataframe\">\n  <thead>\n    <tr style=\"text-align: right;\">\n      <th></th>\n      <th>source</th>\n      <th>log</th>\n      <th>timestamp</th>\n      <th>source_type</th>\n    </tr>\n  </thead>\n  <tbody>\n    <tr>\n      <th>0</th>\n      <td>logcot/log\\log\\database.log</td>\n      <td>数据库日志</td>\n      <td>NaT</td>\n      <td>log</td>\n    </tr>\n    <tr>\n      <th>1</th>\n      <td>logcot/log\\log\\database.log</td>\n      <td>2025-04-23 14:42:36.060 [INFO] database P00000...</td>\n      <td>2025-04-23 14:42:36</td>\n      <td>log</td>\n    </tr>\n    <tr>\n      <th>2</th>\n      <td>logcot/log\\log\\database.log</td>\n      <td>2025-04-23 14:42:36.073 [INFO] database P00000...</td>\n      <td>2025-04-23 14:42:36</td>\n      <td>log</td>\n    </tr>\n    <tr>\n      <th>3</th>\n      <td>logcot/log\\log\\database.log</td>\n      <td>2025-04-23 14:42:48.023 [INFO] database P00000...</td>\n      <td>2025-04-23 14:42:48</td>\n      <td>log</td>\n    </tr>\n    <tr>\n      <th>4</th>\n      <td>logcot/log\\log\\database.log</td>\n      <td>2025-04-23 14:42:48.023 [INFO] database P00000...</td>\n      <td>2025-04-23 14:42:48</td>\n      <td>log</td>\n    </tr>\n    <tr>\n      <th>...</th>\n      <td>...</td>\n      <td>...</td>\n      <td>...</td>\n      <td>...</td>\n    </tr>\n    <tr>\n      <th>64045</th>\n      <td>logcot/log\\log\\resampled_sample.txt</td>\n      <td>2025-04-23T16:44:01.569323+08:00 Dky_app_00 li...</td>\n      <td>NaT</td>\n      <td>log</td>\n    </tr>\n    <tr>\n      <th>64046</th>\n      <td>logcot/log\\log\\resampled_sample.txt</td>\n      <td>2025-04-23T16:44:01.569345+08:00 Dky_app_00 li...</td>\n      <td>NaT</td>\n      <td>log</td>\n    </tr>\n    <tr>\n      <th>64047</th>\n      <td>logcot/log\\log\\resampled_sample.txt</td>\n      <td>2025-04-23T16:44:01.573140+08:00 Dky_app_00 li...</td>\n      <td>NaT</td>\n      <td>log</td>\n    </tr>\n    <tr>\n      <th>64048</th>\n      <td>logcot/log\\log\\resampled_sample.txt</td>\n      <td>2025-04-23T16:44:01.573172+08:00 Dky_app_00 li...</td>\n      <td>NaT</td>\n      <td>log</td>\n    </tr>\n    <tr>\n      <th>64049</th>\n      <td>logcot/log\\log\\resampled_sample.txt</td>\n      <td>2025-04-23T16:44:01.573193+08:00 Dky_app_00 li...</td>\n      <td>NaT</td>\n      <td>log</td>\n    </tr>\n  </tbody>\n</table>\n<p>64050 rows × 4 columns</p>\n</div>"
     },
     "execution_count": 83,
     "metadata": {},
     "output_type": "execute_result"
    }
   ],
   "source": [
    "all_log_df"
   ],
   "metadata": {
    "collapsed": false,
    "ExecuteTime": {
     "end_time": "2025-05-29T19:26:40.286599200Z",
     "start_time": "2025-05-29T19:26:40.243511600Z"
    }
   },
   "id": "d202582c9090d619",
   "execution_count": 83
  },
  {
   "cell_type": "code",
   "outputs": [],
   "source": [
    "all_log_df.dropna().to_csv(\"all_log_csv_final.csv\", index=False)"
   ],
   "metadata": {
    "collapsed": false,
    "ExecuteTime": {
     "end_time": "2025-05-29T19:26:40.380511800Z",
     "start_time": "2025-05-29T19:26:40.258512100Z"
    }
   },
   "id": "bff87c80d8d23cc2",
   "execution_count": 84
  },
  {
   "cell_type": "code",
   "outputs": [],
   "source": [
    "all_log_df = pd.read_csv(\"all_log_csv_final.csv\")"
   ],
   "metadata": {
    "collapsed": false,
    "ExecuteTime": {
     "end_time": "2025-05-29T19:26:40.423510900Z",
     "start_time": "2025-05-29T19:26:40.365511500Z"
    }
   },
   "id": "a6b32768aaafb927",
   "execution_count": 85
  },
  {
   "cell_type": "code",
   "outputs": [],
   "source": [
    "all_log_df['timestamp'] = pd.to_datetime(all_log_df['timestamp'], errors='coerce')"
   ],
   "metadata": {
    "collapsed": false,
    "ExecuteTime": {
     "end_time": "2025-05-29T19:26:40.426511800Z",
     "start_time": "2025-05-29T19:26:40.411511700Z"
    }
   },
   "id": "ed130e3b2cecb887",
   "execution_count": 86
  },
  {
   "cell_type": "code",
   "outputs": [],
   "source": [
    "# all_log_df[all_log_df['timestamp'].dt.date == pd.to_datetime('2024-4-23').date()]"
   ],
   "metadata": {
    "collapsed": false,
    "ExecuteTime": {
     "end_time": "2025-05-29T19:26:40.445512700Z",
     "start_time": "2025-05-29T19:26:40.426511800Z"
    }
   },
   "id": "e278a14c0e01944a",
   "execution_count": 87
  },
  {
   "cell_type": "code",
   "outputs": [
    {
     "data": {
      "text/plain": "                                          source  \\\n0                    logcot/log\\log\\database.log   \n1                    logcot/log\\log\\database.log   \n2                    logcot/log\\log\\database.log   \n3                    logcot/log\\log\\database.log   \n4                    logcot/log\\log\\database.log   \n...                                          ...   \n24715  logcot/log\\log\\log_controller_0_Event.txt   \n24716  logcot/log\\log\\log_controller_0_Event.txt   \n24717  logcot/log\\log\\log_controller_0_Event.txt   \n24718  logcot/log\\log\\log_controller_0_Event.txt   \n24719  logcot/log\\log\\log_controller_0_Event.txt   \n\n                                                     log           timestamp  \\\n0      2025-04-23 14:42:36.060 [INFO] database P00000... 2025-04-23 14:42:36   \n1      2025-04-23 14:42:36.073 [INFO] database P00000... 2025-04-23 14:42:36   \n2      2025-04-23 14:42:48.023 [INFO] database P00000... 2025-04-23 14:42:48   \n3      2025-04-23 14:42:48.023 [INFO] database P00000... 2025-04-23 14:42:48   \n4      2025-04-23 14:42:48.023 [INFO] database P00000... 2025-04-23 14:42:48   \n...                                                  ...                 ...   \n24715  799    2019-03-19 20:59:35    0xF0000501    Di... 2019-03-19 20:59:35   \n24716  160    2019-03-18 14:32:43    0xF0000901    Di... 2019-03-18 14:32:43   \n24717  96    2019-03-18 14:28:48    0xF0000901    Dia... 2019-03-18 14:28:48   \n24718  4    2019-03-18 13:50:28    0xF0000601    Diag... 2019-03-18 13:50:28   \n24719  1    2019-03-18 13:50:18    0xF0000601    Diag... 2019-03-18 13:50:18   \n\n      source_type  \n0             log  \n1             log  \n2             log  \n3             log  \n4             log  \n...           ...  \n24715         log  \n24716         log  \n24717         log  \n24718         log  \n24719         log  \n\n[24720 rows x 4 columns]",
      "text/html": "<div>\n<style scoped>\n    .dataframe tbody tr th:only-of-type {\n        vertical-align: middle;\n    }\n\n    .dataframe tbody tr th {\n        vertical-align: top;\n    }\n\n    .dataframe thead th {\n        text-align: right;\n    }\n</style>\n<table border=\"1\" class=\"dataframe\">\n  <thead>\n    <tr style=\"text-align: right;\">\n      <th></th>\n      <th>source</th>\n      <th>log</th>\n      <th>timestamp</th>\n      <th>source_type</th>\n    </tr>\n  </thead>\n  <tbody>\n    <tr>\n      <th>0</th>\n      <td>logcot/log\\log\\database.log</td>\n      <td>2025-04-23 14:42:36.060 [INFO] database P00000...</td>\n      <td>2025-04-23 14:42:36</td>\n      <td>log</td>\n    </tr>\n    <tr>\n      <th>1</th>\n      <td>logcot/log\\log\\database.log</td>\n      <td>2025-04-23 14:42:36.073 [INFO] database P00000...</td>\n      <td>2025-04-23 14:42:36</td>\n      <td>log</td>\n    </tr>\n    <tr>\n      <th>2</th>\n      <td>logcot/log\\log\\database.log</td>\n      <td>2025-04-23 14:42:48.023 [INFO] database P00000...</td>\n      <td>2025-04-23 14:42:48</td>\n      <td>log</td>\n    </tr>\n    <tr>\n      <th>3</th>\n      <td>logcot/log\\log\\database.log</td>\n      <td>2025-04-23 14:42:48.023 [INFO] database P00000...</td>\n      <td>2025-04-23 14:42:48</td>\n      <td>log</td>\n    </tr>\n    <tr>\n      <th>4</th>\n      <td>logcot/log\\log\\database.log</td>\n      <td>2025-04-23 14:42:48.023 [INFO] database P00000...</td>\n      <td>2025-04-23 14:42:48</td>\n      <td>log</td>\n    </tr>\n    <tr>\n      <th>...</th>\n      <td>...</td>\n      <td>...</td>\n      <td>...</td>\n      <td>...</td>\n    </tr>\n    <tr>\n      <th>24715</th>\n      <td>logcot/log\\log\\log_controller_0_Event.txt</td>\n      <td>799    2019-03-19 20:59:35    0xF0000501    Di...</td>\n      <td>2019-03-19 20:59:35</td>\n      <td>log</td>\n    </tr>\n    <tr>\n      <th>24716</th>\n      <td>logcot/log\\log\\log_controller_0_Event.txt</td>\n      <td>160    2019-03-18 14:32:43    0xF0000901    Di...</td>\n      <td>2019-03-18 14:32:43</td>\n      <td>log</td>\n    </tr>\n    <tr>\n      <th>24717</th>\n      <td>logcot/log\\log\\log_controller_0_Event.txt</td>\n      <td>96    2019-03-18 14:28:48    0xF0000901    Dia...</td>\n      <td>2019-03-18 14:28:48</td>\n      <td>log</td>\n    </tr>\n    <tr>\n      <th>24718</th>\n      <td>logcot/log\\log\\log_controller_0_Event.txt</td>\n      <td>4    2019-03-18 13:50:28    0xF0000601    Diag...</td>\n      <td>2019-03-18 13:50:28</td>\n      <td>log</td>\n    </tr>\n    <tr>\n      <th>24719</th>\n      <td>logcot/log\\log\\log_controller_0_Event.txt</td>\n      <td>1    2019-03-18 13:50:18    0xF0000601    Diag...</td>\n      <td>2019-03-18 13:50:18</td>\n      <td>log</td>\n    </tr>\n  </tbody>\n</table>\n<p>24720 rows × 4 columns</p>\n</div>"
     },
     "execution_count": 88,
     "metadata": {},
     "output_type": "execute_result"
    }
   ],
   "source": [
    "all_log_df"
   ],
   "metadata": {
    "collapsed": false,
    "ExecuteTime": {
     "end_time": "2025-05-29T19:26:42.426632100Z",
     "start_time": "2025-05-29T19:26:42.407347600Z"
    }
   },
   "id": "5f68af9606b638f7",
   "execution_count": 88
  },
  {
   "cell_type": "code",
   "outputs": [],
   "source": [
    "import pandas as pd\n",
    "import re\n",
    "from typing import List\n",
    "from concurrent.futures import ThreadPoolExecutor, as_completed\n",
    "from tqdm import tqdm\n",
    "\n",
    "\n",
    "def post_with_retry(payload, headers, api_url):\n",
    "    import requests\n",
    "    from tenacity import retry, stop_after_attempt, wait_exponential\n",
    "\n",
    "    @retry(stop=stop_after_attempt(5), wait=wait_exponential(min=1, max=10))\n",
    "    def _post():\n",
    "        response = requests.post(api_url, json=payload, headers=headers)\n",
    "        response.raise_for_status()\n",
    "        return response.json()\n",
    "\n",
    "    return _post()\n",
    "\n",
    "\n",
    "def generate_prompt(prompt_header, logs: List[str], max_len=8000) -> List[str]:\n",
    "    prompt_parts, log_parts = [], []\n",
    "    prompt, current_logs = prompt_header, []\n",
    "    for i, log in enumerate(logs):\n",
    "        log_str = f\"({i + 1}) {log}\"\n",
    "        if len(prompt) + len(log_str) > max_len:\n",
    "            prompt_parts.append(prompt)\n",
    "            log_parts.append(current_logs)\n",
    "            prompt, current_logs = prompt_header, []\n",
    "        prompt += f\" {log_str}\"\n",
    "        current_logs.append(log_str)\n",
    "    if current_logs:\n",
    "        prompt_parts.append(prompt)\n",
    "        log_parts.append(current_logs)\n",
    "    return prompt_parts, log_parts\n",
    "\n",
    "\n",
    "def parse_logs(prompt_parts: List[str], api_keys: List[str], api_url: str) -> List[str]:\n",
    "    def call_api(prompt, key):\n",
    "        payload = {\n",
    "            \"model\": \"THUDM/GLM-4-9B-0414\",\n",
    "            \"stream\": False,\n",
    "            \"max_tokens\": 8192,\n",
    "            \"temperature\": 0.1,\n",
    "            \"top_p\": 0.3,\n",
    "            \"top_k\": 20,\n",
    "            \"frequency_penalty\": 0.2,\n",
    "            \"messages\": [{\"role\": \"user\", \"content\": prompt}]\n",
    "        }\n",
    "        headers = {\"Authorization\": f\"Bearer {key}\", \"Content-Type\": \"application/json\"}\n",
    "        try:\n",
    "            response = post_with_retry(payload, headers, api_url)\n",
    "            return response['choices'][0]['message']['content']\n",
    "        except Exception as e:\n",
    "            return f\"error: {str(e)}\"\n",
    "\n",
    "    results = []\n",
    "    with ThreadPoolExecutor(max_workers=min(5, len(api_keys))) as executor:\n",
    "        futures = [executor.submit(call_api, p, api_keys[i % len(api_keys)]) for i, p in enumerate(prompt_parts)]\n",
    "        for fut in tqdm(as_completed(futures), total=len(futures), desc=\"推理中\"):\n",
    "            results.append(fut.result())\n",
    "    return results\n",
    "\n",
    "\n",
    "def extract_abnormal_indices(gpt_outputs: List[str]) -> set:\n",
    "    # 只提取出现的 index，表示为 abnormal\n",
    "    pattern = r'\\((\\d+)\\)'\n",
    "    abnormal_indices = set()\n",
    "    for text in gpt_outputs:\n",
    "        matches = re.findall(pattern, str(text))\n",
    "        for idx in matches:\n",
    "            abnormal_indices.add(int(idx) - 1)  # 0-based index\n",
    "    return abnormal_indices\n",
    "\n",
    "\n",
    "def analyze_log_df(df: pd.DataFrame, api_keys: List[str], api_url: str) -> pd.DataFrame:\n",
    "    prompt_header = \"\"\"You are a log anomaly detector.\n",
    "\n",
    "You will be given a list of log entries, each with a unique index (e.g., (1), (2), ...).  \n",
    "Your task is to find which logs indicate abnormal behavior such as errors, failures, crashes, or anomalies.\n",
    "\n",
    "⚠️ Only return a list of indices of abnormal logs, in the format:\n",
    "(3)\n",
    "(8)\n",
    "(12)\n",
    "\n",
    "Do not include any other text, explanation, or format.\n",
    "\n",
    "Now here are the logs:\n",
    "\"\"\"\n",
    "\n",
    "    logs = df['log'].tolist()\n",
    "    prompt_parts, log_parts = generate_prompt(prompt_header, logs)\n",
    "    gpt_outputs = parse_logs(prompt_parts, api_keys, api_url)\n",
    "    abnormal_idx_set = extract_abnormal_indices(gpt_outputs)\n",
    "    print(abnormal_idx_set)\n",
    "    # 默认 status 为 0，仅标记异常为 1\n",
    "    df['status'] = [1 if i in abnormal_idx_set else 0 for i in range(len(df))]\n",
    "    return df\n"
   ],
   "metadata": {
    "collapsed": false,
    "ExecuteTime": {
     "end_time": "2025-05-29T19:26:52.420442600Z",
     "start_time": "2025-05-29T19:26:52.395053800Z"
    }
   },
   "id": "251dfaa95aebeae8",
   "execution_count": 89
  },
  {
   "cell_type": "code",
   "outputs": [
    {
     "data": {
      "text/plain": "                                          source  \\\n0                    logcot/log\\log\\database.log   \n1                    logcot/log\\log\\database.log   \n2                    logcot/log\\log\\database.log   \n3                    logcot/log\\log\\database.log   \n4                    logcot/log\\log\\database.log   \n...                                          ...   \n24715  logcot/log\\log\\log_controller_0_Event.txt   \n24716  logcot/log\\log\\log_controller_0_Event.txt   \n24717  logcot/log\\log\\log_controller_0_Event.txt   \n24718  logcot/log\\log\\log_controller_0_Event.txt   \n24719  logcot/log\\log\\log_controller_0_Event.txt   \n\n                                                     log           timestamp  \\\n0      2025-04-23 14:42:36.060 [INFO] database P00000... 2025-04-23 14:42:36   \n1      2025-04-23 14:42:36.073 [INFO] database P00000... 2025-04-23 14:42:36   \n2      2025-04-23 14:42:48.023 [INFO] database P00000... 2025-04-23 14:42:48   \n3      2025-04-23 14:42:48.023 [INFO] database P00000... 2025-04-23 14:42:48   \n4      2025-04-23 14:42:48.023 [INFO] database P00000... 2025-04-23 14:42:48   \n...                                                  ...                 ...   \n24715  799    2019-03-19 20:59:35    0xF0000501    Di... 2019-03-19 20:59:35   \n24716  160    2019-03-18 14:32:43    0xF0000901    Di... 2019-03-18 14:32:43   \n24717  96    2019-03-18 14:28:48    0xF0000901    Dia... 2019-03-18 14:28:48   \n24718  4    2019-03-18 13:50:28    0xF0000601    Diag... 2019-03-18 13:50:28   \n24719  1    2019-03-18 13:50:18    0xF0000601    Diag... 2019-03-18 13:50:18   \n\n      source_type  \n0             log  \n1             log  \n2             log  \n3             log  \n4             log  \n...           ...  \n24715         log  \n24716         log  \n24717         log  \n24718         log  \n24719         log  \n\n[24720 rows x 4 columns]",
      "text/html": "<div>\n<style scoped>\n    .dataframe tbody tr th:only-of-type {\n        vertical-align: middle;\n    }\n\n    .dataframe tbody tr th {\n        vertical-align: top;\n    }\n\n    .dataframe thead th {\n        text-align: right;\n    }\n</style>\n<table border=\"1\" class=\"dataframe\">\n  <thead>\n    <tr style=\"text-align: right;\">\n      <th></th>\n      <th>source</th>\n      <th>log</th>\n      <th>timestamp</th>\n      <th>source_type</th>\n    </tr>\n  </thead>\n  <tbody>\n    <tr>\n      <th>0</th>\n      <td>logcot/log\\log\\database.log</td>\n      <td>2025-04-23 14:42:36.060 [INFO] database P00000...</td>\n      <td>2025-04-23 14:42:36</td>\n      <td>log</td>\n    </tr>\n    <tr>\n      <th>1</th>\n      <td>logcot/log\\log\\database.log</td>\n      <td>2025-04-23 14:42:36.073 [INFO] database P00000...</td>\n      <td>2025-04-23 14:42:36</td>\n      <td>log</td>\n    </tr>\n    <tr>\n      <th>2</th>\n      <td>logcot/log\\log\\database.log</td>\n      <td>2025-04-23 14:42:48.023 [INFO] database P00000...</td>\n      <td>2025-04-23 14:42:48</td>\n      <td>log</td>\n    </tr>\n    <tr>\n      <th>3</th>\n      <td>logcot/log\\log\\database.log</td>\n      <td>2025-04-23 14:42:48.023 [INFO] database P00000...</td>\n      <td>2025-04-23 14:42:48</td>\n      <td>log</td>\n    </tr>\n    <tr>\n      <th>4</th>\n      <td>logcot/log\\log\\database.log</td>\n      <td>2025-04-23 14:42:48.023 [INFO] database P00000...</td>\n      <td>2025-04-23 14:42:48</td>\n      <td>log</td>\n    </tr>\n    <tr>\n      <th>...</th>\n      <td>...</td>\n      <td>...</td>\n      <td>...</td>\n      <td>...</td>\n    </tr>\n    <tr>\n      <th>24715</th>\n      <td>logcot/log\\log\\log_controller_0_Event.txt</td>\n      <td>799    2019-03-19 20:59:35    0xF0000501    Di...</td>\n      <td>2019-03-19 20:59:35</td>\n      <td>log</td>\n    </tr>\n    <tr>\n      <th>24716</th>\n      <td>logcot/log\\log\\log_controller_0_Event.txt</td>\n      <td>160    2019-03-18 14:32:43    0xF0000901    Di...</td>\n      <td>2019-03-18 14:32:43</td>\n      <td>log</td>\n    </tr>\n    <tr>\n      <th>24717</th>\n      <td>logcot/log\\log\\log_controller_0_Event.txt</td>\n      <td>96    2019-03-18 14:28:48    0xF0000901    Dia...</td>\n      <td>2019-03-18 14:28:48</td>\n      <td>log</td>\n    </tr>\n    <tr>\n      <th>24718</th>\n      <td>logcot/log\\log\\log_controller_0_Event.txt</td>\n      <td>4    2019-03-18 13:50:28    0xF0000601    Diag...</td>\n      <td>2019-03-18 13:50:28</td>\n      <td>log</td>\n    </tr>\n    <tr>\n      <th>24719</th>\n      <td>logcot/log\\log\\log_controller_0_Event.txt</td>\n      <td>1    2019-03-18 13:50:18    0xF0000601    Diag...</td>\n      <td>2019-03-18 13:50:18</td>\n      <td>log</td>\n    </tr>\n  </tbody>\n</table>\n<p>24720 rows × 4 columns</p>\n</div>"
     },
     "execution_count": 90,
     "metadata": {},
     "output_type": "execute_result"
    }
   ],
   "source": [
    "all_log_df[:]"
   ],
   "metadata": {
    "collapsed": false,
    "ExecuteTime": {
     "end_time": "2025-05-29T19:26:53.322768100Z",
     "start_time": "2025-05-29T19:26:53.311746200Z"
    }
   },
   "id": "8dc9821155ec0f52",
   "execution_count": 90
  },
  {
   "cell_type": "code",
   "outputs": [
    {
     "name": "stderr",
     "output_type": "stream",
     "text": [
      "推理中: 100%|██████████| 667/667 [10:42<00:00,  1.04it/s]"
     ]
    },
    {
     "name": "stdout",
     "output_type": "stream",
     "text": [
      "                                                     log  status\n",
      "0      2025-04-23 14:42:36.060 [INFO] database P00000...       1\n",
      "1      2025-04-23 14:42:36.073 [INFO] database P00000...       1\n",
      "2      2025-04-23 14:42:48.023 [INFO] database P00000...       1\n",
      "3      2025-04-23 14:42:48.023 [INFO] database P00000...       1\n",
      "4      2025-04-23 14:42:48.023 [INFO] database P00000...       1\n",
      "...                                                  ...     ...\n",
      "24715  799    2019-03-19 20:59:35    0xF0000501    Di...       0\n",
      "24716  160    2019-03-18 14:32:43    0xF0000901    Di...       1\n",
      "24717  96    2019-03-18 14:28:48    0xF0000901    Dia...       1\n",
      "24718  4    2019-03-18 13:50:28    0xF0000601    Diag...       1\n",
      "24719  1    2019-03-18 13:50:18    0xF0000601    Diag...       1\n",
      "\n",
      "[24720 rows x 2 columns]\n"
     ]
    },
    {
     "name": "stderr",
     "output_type": "stream",
     "text": [
      "\n"
     ]
    }
   ],
   "source": [
    "API_URL = \"https://api.siliconflow.cn/v1/chat/completions\"\n",
    "API_KEYS = [\n",
    "    \"sk-dpadryupxccpbkigoduasfosszucawczlmfraqhtevaxlokx\",\n",
    "    \"sk-kbucebwhrsoimqttlosgtxncyvmuvdyioncbadavayiovrns\",\n",
    "    \"sk-zzuykfebwbxkurfftzuvujqpwqzxxljegnxhhwtzddvwiigf\",\n",
    "    \"sk-qgsqryixuqdmtzkgubxpvdzollysgtonnvcrwmikwegmaogn\",\n",
    "    \"sk-hvxqvahoplbhdadwtaomisdamxqhquvummcfpvlafeovpqus\",\n",
    "]\n",
    "df = analyze_log_df(all_log_df[:], API_KEYS, API_URL)\n",
    "print(df[['log', 'status']])"
   ],
   "metadata": {
    "collapsed": false,
    "ExecuteTime": {
     "end_time": "2025-05-29T19:37:39.146584400Z",
     "start_time": "2025-05-29T19:26:56.203901300Z"
    }
   },
   "id": "cf71e1595bb91f09",
   "execution_count": 91
  },
  {
   "cell_type": "code",
   "outputs": [],
   "source": [
    "df['source_type'] = df['source'].apply(lambda x: os.path.basename(str(x)))"
   ],
   "metadata": {
    "collapsed": false,
    "ExecuteTime": {
     "end_time": "2025-05-29T19:37:41.624492200Z",
     "start_time": "2025-05-29T19:37:41.553493500Z"
    }
   },
   "id": "84b2b0ce4308cc81",
   "execution_count": 92
  },
  {
   "cell_type": "code",
   "outputs": [
    {
     "data": {
      "text/plain": "                                          source  \\\n0                    logcot/log\\log\\database.log   \n1                    logcot/log\\log\\database.log   \n2                    logcot/log\\log\\database.log   \n3                    logcot/log\\log\\database.log   \n4                    logcot/log\\log\\database.log   \n...                                          ...   \n24714  logcot/log\\log\\log_controller_0_Event.txt   \n24716  logcot/log\\log\\log_controller_0_Event.txt   \n24717  logcot/log\\log\\log_controller_0_Event.txt   \n24718  logcot/log\\log\\log_controller_0_Event.txt   \n24719  logcot/log\\log\\log_controller_0_Event.txt   \n\n                                                     log           timestamp  \\\n0      2025-04-23 14:42:36.060 [INFO] database P00000... 2025-04-23 14:42:36   \n1      2025-04-23 14:42:36.073 [INFO] database P00000... 2025-04-23 14:42:36   \n2      2025-04-23 14:42:48.023 [INFO] database P00000... 2025-04-23 14:42:48   \n3      2025-04-23 14:42:48.023 [INFO] database P00000... 2025-04-23 14:42:48   \n4      2025-04-23 14:42:48.023 [INFO] database P00000... 2025-04-23 14:42:48   \n...                                                  ...                 ...   \n24714  166136    2019-03-30 19:58:35    0xF0000106   ... 2019-03-30 19:58:35   \n24716  160    2019-03-18 14:32:43    0xF0000901    Di... 2019-03-18 14:32:43   \n24717  96    2019-03-18 14:28:48    0xF0000901    Dia... 2019-03-18 14:28:48   \n24718  4    2019-03-18 13:50:28    0xF0000601    Diag... 2019-03-18 13:50:28   \n24719  1    2019-03-18 13:50:18    0xF0000601    Diag... 2019-03-18 13:50:18   \n\n                      source_type  status  \n0                    database.log       1  \n1                    database.log       1  \n2                    database.log       1  \n3                    database.log       1  \n4                    database.log       1  \n...                           ...     ...  \n24714  log_controller_0_Event.txt       1  \n24716  log_controller_0_Event.txt       1  \n24717  log_controller_0_Event.txt       1  \n24718  log_controller_0_Event.txt       1  \n24719  log_controller_0_Event.txt       1  \n\n[5888 rows x 5 columns]",
      "text/html": "<div>\n<style scoped>\n    .dataframe tbody tr th:only-of-type {\n        vertical-align: middle;\n    }\n\n    .dataframe tbody tr th {\n        vertical-align: top;\n    }\n\n    .dataframe thead th {\n        text-align: right;\n    }\n</style>\n<table border=\"1\" class=\"dataframe\">\n  <thead>\n    <tr style=\"text-align: right;\">\n      <th></th>\n      <th>source</th>\n      <th>log</th>\n      <th>timestamp</th>\n      <th>source_type</th>\n      <th>status</th>\n    </tr>\n  </thead>\n  <tbody>\n    <tr>\n      <th>0</th>\n      <td>logcot/log\\log\\database.log</td>\n      <td>2025-04-23 14:42:36.060 [INFO] database P00000...</td>\n      <td>2025-04-23 14:42:36</td>\n      <td>database.log</td>\n      <td>1</td>\n    </tr>\n    <tr>\n      <th>1</th>\n      <td>logcot/log\\log\\database.log</td>\n      <td>2025-04-23 14:42:36.073 [INFO] database P00000...</td>\n      <td>2025-04-23 14:42:36</td>\n      <td>database.log</td>\n      <td>1</td>\n    </tr>\n    <tr>\n      <th>2</th>\n      <td>logcot/log\\log\\database.log</td>\n      <td>2025-04-23 14:42:48.023 [INFO] database P00000...</td>\n      <td>2025-04-23 14:42:48</td>\n      <td>database.log</td>\n      <td>1</td>\n    </tr>\n    <tr>\n      <th>3</th>\n      <td>logcot/log\\log\\database.log</td>\n      <td>2025-04-23 14:42:48.023 [INFO] database P00000...</td>\n      <td>2025-04-23 14:42:48</td>\n      <td>database.log</td>\n      <td>1</td>\n    </tr>\n    <tr>\n      <th>4</th>\n      <td>logcot/log\\log\\database.log</td>\n      <td>2025-04-23 14:42:48.023 [INFO] database P00000...</td>\n      <td>2025-04-23 14:42:48</td>\n      <td>database.log</td>\n      <td>1</td>\n    </tr>\n    <tr>\n      <th>...</th>\n      <td>...</td>\n      <td>...</td>\n      <td>...</td>\n      <td>...</td>\n      <td>...</td>\n    </tr>\n    <tr>\n      <th>24714</th>\n      <td>logcot/log\\log\\log_controller_0_Event.txt</td>\n      <td>166136    2019-03-30 19:58:35    0xF0000106   ...</td>\n      <td>2019-03-30 19:58:35</td>\n      <td>log_controller_0_Event.txt</td>\n      <td>1</td>\n    </tr>\n    <tr>\n      <th>24716</th>\n      <td>logcot/log\\log\\log_controller_0_Event.txt</td>\n      <td>160    2019-03-18 14:32:43    0xF0000901    Di...</td>\n      <td>2019-03-18 14:32:43</td>\n      <td>log_controller_0_Event.txt</td>\n      <td>1</td>\n    </tr>\n    <tr>\n      <th>24717</th>\n      <td>logcot/log\\log\\log_controller_0_Event.txt</td>\n      <td>96    2019-03-18 14:28:48    0xF0000901    Dia...</td>\n      <td>2019-03-18 14:28:48</td>\n      <td>log_controller_0_Event.txt</td>\n      <td>1</td>\n    </tr>\n    <tr>\n      <th>24718</th>\n      <td>logcot/log\\log\\log_controller_0_Event.txt</td>\n      <td>4    2019-03-18 13:50:28    0xF0000601    Diag...</td>\n      <td>2019-03-18 13:50:28</td>\n      <td>log_controller_0_Event.txt</td>\n      <td>1</td>\n    </tr>\n    <tr>\n      <th>24719</th>\n      <td>logcot/log\\log\\log_controller_0_Event.txt</td>\n      <td>1    2019-03-18 13:50:18    0xF0000601    Diag...</td>\n      <td>2019-03-18 13:50:18</td>\n      <td>log_controller_0_Event.txt</td>\n      <td>1</td>\n    </tr>\n  </tbody>\n</table>\n<p>5888 rows × 5 columns</p>\n</div>"
     },
     "execution_count": 95,
     "metadata": {},
     "output_type": "execute_result"
    }
   ],
   "source": [
    "df[df['status'] == 1]"
   ],
   "metadata": {
    "collapsed": false,
    "ExecuteTime": {
     "end_time": "2025-05-29T19:38:08.369471900Z",
     "start_time": "2025-05-29T19:38:08.345472300Z"
    }
   },
   "id": "f04eb6b5281103b3",
   "execution_count": 95
  },
  {
   "cell_type": "code",
   "outputs": [],
   "source": [
    "df.dropna().to_csv(\"all_log_csv_final_processed.csv\", index=False)"
   ],
   "metadata": {
    "collapsed": false,
    "ExecuteTime": {
     "end_time": "2025-05-29T19:38:12.865015700Z",
     "start_time": "2025-05-29T19:38:12.771724200Z"
    }
   },
   "id": "aa75717518ff708a",
   "execution_count": 96
  }
 ],
 "metadata": {
  "kernelspec": {
   "display_name": "Python 3",
   "language": "python",
   "name": "python3"
  },
  "language_info": {
   "codemirror_mode": {
    "name": "ipython",
    "version": 2
   },
   "file_extension": ".py",
   "mimetype": "text/x-python",
   "name": "python",
   "nbconvert_exporter": "python",
   "pygments_lexer": "ipython2",
   "version": "2.7.6"
  }
 },
 "nbformat": 4,
 "nbformat_minor": 5
}
