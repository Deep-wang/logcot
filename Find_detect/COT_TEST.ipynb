{
 "cells": [
  {
   "cell_type": "code",
   "execution_count": null,
   "id": "20907f33",
   "metadata": {},
   "outputs": [],
   "source": []
  },
  {
   "cell_type": "code",
   "execution_count": 6,
   "id": "a908b04e",
   "metadata": {},
   "outputs": [
    {
     "name": "stdout",
     "output_type": "stream",
     "text": [
      "../Find_detect/output_530/log_czp_db1_kernel_raw.xlsx\n",
      "../Find_detect/output_530/log_database_log_raw.xlsx\n",
      "../Find_detect/output_530/log_log_controller_0_Event_txt_raw.xlsx\n",
      "../Find_detect/output_530/log_czp_db2_kernel_raw.xlsx\n",
      "../Find_detect/output_530/log_czp_db2_auth_raw.xlsx\n",
      "../Find_detect/output_530/log_resampled_sample_txt_raw.xlsx\n",
      "../Find_detect/output_530/log_czp_db1_auth_raw.xlsx\n",
      "../Find_detect/output_530/log_czp_db1_messages_raw.xlsx\n",
      "../Find_detect/output_530/log_czp_db2_messages_raw.xlsx\n"
     ]
    }
   ],
   "source": [
    "import sys\n",
    "import io\n",
    "\n",
    "import os\n",
    "\n",
    "\n",
    "def UpLoad_File(dir_path):\n",
    "    \"\"\"\n",
    "    遍历给定目录，返回所有文件的完整路径（递归包含子目录）\n",
    "    自动过滤掉 .DS_Store 等隐藏文件\n",
    "    \"\"\"\n",
    "    file_list = []\n",
    "    for root, dirs, files in os.walk(dir_path):\n",
    "        for file in files:\n",
    "            if not file.endswith('.DS_Store'):\n",
    "                full_path = os.path.join(root, file)\n",
    "                file_list.append(full_path)\n",
    "    return file_list\n",
    "\n",
    "\n",
    "API_URL = \"https://api.siliconflow.cn/v1/chat/completions\"\n",
    "API_KEYS = [\n",
    "    \"sk-dpadryupxccpbkigoduasfosszucawczlmfraqhtevaxlokx\",\n",
    "    \"sk-kbucebwhrsoimqttlosgtxncyvmuvdyioncbadavayiovrns\",\n",
    "    \"sk-zzuykfebwbxkurfftzuvujqpwqzxxljegnxhhwtzddvwiigf\",\n",
    "    \"sk-qgsqryixuqdmtzkgubxpvdzollysgtonnvcrwmikwegmaogn\",\n",
    "    \"sk-hvxqvahoplbhdadwtaomisdamxqhquvummcfpvlafeovpqus\",\n",
    "]\n",
    "INPUT_DIR = '../log/OUTPUT_FILE'\n",
    "OUTPUT_DIR = '../Find_detect/output_530'\n",
    "PROMPT_STRATEGIES = 'CoT'\n",
    "# analyze_log_path = '../Find_detect/output_528'\n",
    "file_list = UpLoad_File(INPUT_DIR)\n",
    "# file_list = file_list[:1]   # debug\n",
    "Results = []\n",
    "Error_logs = []\n",
    "for file in file_list:\n",
    "    INPUT_FILE = file\n",
    "    raw_file_name = os.path.join(\n",
    "        OUTPUT_DIR,\n",
    "        os.path.basename(file).replace('.xlsx', '_raw.xlsx'))\n",
    "    print(raw_file_name)"
   ]
  },
  {
   "cell_type": "code",
   "execution_count": 17,
   "id": "78aadf2f",
   "metadata": {},
   "outputs": [
    {
     "name": "stdout",
     "output_type": "stream",
     "text": [
      "../log/OUTPUT_FILE/log_czp_db2_messages.xlsx\n"
     ]
    },
    {
     "data": {
      "text/html": [
       "<div>\n",
       "<style scoped>\n",
       "    .dataframe tbody tr th:only-of-type {\n",
       "        vertical-align: middle;\n",
       "    }\n",
       "\n",
       "    .dataframe tbody tr th {\n",
       "        vertical-align: top;\n",
       "    }\n",
       "\n",
       "    .dataframe thead th {\n",
       "        text-align: right;\n",
       "    }\n",
       "</style>\n",
       "<table border=\"1\" class=\"dataframe\">\n",
       "  <thead>\n",
       "    <tr style=\"text-align: right;\">\n",
       "      <th></th>\n",
       "      <th>index</th>\n",
       "      <th>log</th>\n",
       "    </tr>\n",
       "  </thead>\n",
       "  <tbody>\n",
       "    <tr>\n",
       "      <th>0</th>\n",
       "      <td>1</td>\n",
       "      <td>Apr 23 00:00:01 czp-db2 /usr/sbin/cron[101839]...</td>\n",
       "    </tr>\n",
       "    <tr>\n",
       "      <th>1</th>\n",
       "      <td>2</td>\n",
       "      <td>Apr 23 00:00:01 czp-db2 /usr/sbin/cron[101840]...</td>\n",
       "    </tr>\n",
       "    <tr>\n",
       "      <th>2</th>\n",
       "      <td>3</td>\n",
       "      <td>Apr 23 00:00:01 czp-db2 /usr/sbin/cron[101841]...</td>\n",
       "    </tr>\n",
       "    <tr>\n",
       "      <th>3</th>\n",
       "      <td>4</td>\n",
       "      <td>Apr 23 00:00:01 czp-db2 /usr/sbin/cron[101842]...</td>\n",
       "    </tr>\n",
       "    <tr>\n",
       "      <th>4</th>\n",
       "      <td>5</td>\n",
       "      <td>Apr 23 00:00:01 czp-db2 /usr/sbin/cron[101843]...</td>\n",
       "    </tr>\n",
       "  </tbody>\n",
       "</table>\n",
       "</div>"
      ],
      "text/plain": [
       "   index                                                log\n",
       "0      1  Apr 23 00:00:01 czp-db2 /usr/sbin/cron[101839]...\n",
       "1      2  Apr 23 00:00:01 czp-db2 /usr/sbin/cron[101840]...\n",
       "2      3  Apr 23 00:00:01 czp-db2 /usr/sbin/cron[101841]...\n",
       "3      4  Apr 23 00:00:01 czp-db2 /usr/sbin/cron[101842]...\n",
       "4      5  Apr 23 00:00:01 czp-db2 /usr/sbin/cron[101843]..."
      ]
     },
     "execution_count": 17,
     "metadata": {},
     "output_type": "execute_result"
    }
   ],
   "source": [
    "import pandas\n",
    "\n",
    "file_name = file_list[-1]\n",
    "print(file_name)\n",
    "df = pd.read_excel(file_name).iloc[1:]\n",
    "df = df.reset_index()\n",
    "df.head()"
   ]
  },
  {
   "cell_type": "code",
   "execution_count": 9,
   "id": "e43d374f",
   "metadata": {},
   "outputs": [],
   "source": [
    "import requests\n",
    "from tenacity import retry, stop_after_attempt, wait_exponential\n",
    "\n",
    "\n",
    "def run_prompt(prompt: str, api_key: str, api_url: str) -> str:\n",
    "    \"\"\"\n",
    "    调用大模型 API，输入 prompt，返回回答内容。\n",
    "\n",
    "    参数：\n",
    "    - prompt: 输入的文本提示\n",
    "    - api_key: API 密钥（string）\n",
    "    - api_url: 模型服务的 URL（string）\n",
    "\n",
    "    返回：\n",
    "    - 模型输出的内容（string）\n",
    "    \"\"\"\n",
    "    payload = {\n",
    "        \"model\": \"THUDM/GLM-4-9B-0414\",  # 可根据需要替换为 \"Qwen/Qwen3-8B\" 等模型名\n",
    "        \"stream\": False,\n",
    "        \"max_tokens\": 8192,\n",
    "        \"enable_thinking\": True,\n",
    "        \"thinking_budget\": 4096,\n",
    "        \"min_p\": 0.05,\n",
    "        \"temperature\": 0.1,\n",
    "        \"top_p\": 0.3,\n",
    "        \"top_k\": 20,\n",
    "        \"frequency_penalty\": 0.2,\n",
    "        \"n\": 1,\n",
    "        \"stop\": [],\n",
    "        \"messages\": [{\n",
    "            \"role\": \"user\",\n",
    "            \"content\": prompt\n",
    "        }]\n",
    "    }\n",
    "    headers = {\n",
    "        \"Authorization\": f\"Bearer {api_key}\",\n",
    "        \"Content-Type\": \"application/json\"\n",
    "    }\n",
    "    response = requests.post(api_url, json=payload, headers=headers)\n",
    "    response.raise_for_status()\n",
    "    return response.json()['choices'][0]['message']['content']\n",
    "\n",
    "\n",
    "def build_prompt(df, prompt_header: str, max_len: int = 40000) -> list:\n",
    "    \"\"\"\n",
    "    将 df['log'] 构建为一个或多个符合最大长度限制的 prompt。\n",
    "\n",
    "    参数：\n",
    "    - df: 包含日志的 DataFrame，要求含有列 df['log']\n",
    "    - prompt_header: prompt 开头说明文本（如 log classifier）\n",
    "    - max_len: 每个 prompt 的最大字符数（默认 4000）\n",
    "\n",
    "    返回：\n",
    "    - prompt_list: List[str]，每个元素是一条完整的 prompt\n",
    "    \"\"\"\n",
    "    prompt_list = []\n",
    "    current_prompt = prompt_header.strip() + \"\\n\"\n",
    "    current_logs = []\n",
    "    for _, row in df.iterrows():\n",
    "        log_entry = f\"[{row['index']}] {row['log']}\"\n",
    "        if len(current_prompt) + len(log_entry) + 1 <= max_len:\n",
    "            current_prompt += log_entry + \"\\n\"\n",
    "        else:\n",
    "            prompt_list.append(current_prompt.strip())\n",
    "            current_prompt = prompt_header.strip() + \"\\n\" + log_entry + \"\\n\"\n",
    "\n",
    "    # 最后一批日志加入\n",
    "    if current_prompt.strip() != prompt_header.strip():\n",
    "        prompt_list.append(current_prompt.strip())\n",
    "    return prompt_list\n"
   ]
  },
  {
   "cell_type": "code",
   "execution_count": 12,
   "id": "a360ec73",
   "metadata": {},
   "outputs": [],
   "source": [
    "import pandas as pd\n",
    "\n",
    "prompt_header = '''You are a log anomaly classifier.\n",
    "\n",
    "You will be given a list of log entries, each with a unique index.  \n",
    "Your task is to determine whether each log is **abnormal (1)** or **normal (0)**.  \n",
    "Only output in the following format, without any extra explanation or comments.\n",
    "\n",
    "## Output Format:\n",
    "(log_idx, status)\n",
    "\n",
    "## Output Rules:\n",
    "- status must be 1 if the log entry indicates an error, failure, crash, or unusual behavior.\n",
    "- status must be 0 if the log entry is a normal operation or informational message.\n",
    "- Output **only** a list of tuples. No extra text or explanation.\n",
    "\n",
    "## Input Logs:\n",
    "'''\n",
    "\n",
    "prompt_list = build_prompt(df.iloc[:], prompt_header, max_len=8000)\n",
    "# for prompt in prompt_list:\n",
    "#     print(prompt)\n",
    "#     print(\"\\n\" + \"=\" * 80 + \"\\n\")\n"
   ]
  },
  {
   "cell_type": "code",
   "execution_count": 13,
   "id": "4d037dfa",
   "metadata": {},
   "outputs": [
    {
     "data": {
      "text/plain": [
       "115"
      ]
     },
     "execution_count": 13,
     "metadata": {},
     "output_type": "execute_result"
    }
   ],
   "source": [
    "len(prompt_list)"
   ]
  },
  {
   "cell_type": "code",
   "execution_count": 14,
   "id": "3c410c32",
   "metadata": {},
   "outputs": [
    {
     "data": {
      "text/plain": [
       "6"
      ]
     },
     "execution_count": 14,
     "metadata": {},
     "output_type": "execute_result"
    }
   ],
   "source": [
    "df_1 = df.iloc[:360]\n",
    "prompt_list = build_prompt(df_1, prompt_header, max_len=6000)\n",
    "# log_info = run_prompt(prompt_list[0], API_KEYS[0], API_URL)\n",
    "len(prompt_list)"
   ]
  },
  {
   "cell_type": "code",
   "execution_count": 313,
   "id": "81d6571b",
   "metadata": {},
   "outputs": [],
   "source": [
    "# print(prompt_list[0])"
   ]
  },
  {
   "cell_type": "code",
   "execution_count": 314,
   "id": "5e6387a2",
   "metadata": {},
   "outputs": [
    {
     "name": "stderr",
     "output_type": "stream",
     "text": [
      "/var/folders/jw/phs9hmcj0r9bmsg0v_1pbn4w0000gn/T/ipykernel_4952/1604694894.py:19: SettingWithCopyWarning: \n",
      "A value is trying to be set on a copy of a slice from a DataFrame.\n",
      "Try using .loc[row_indexer,col_indexer] = value instead\n",
      "\n",
      "See the caveats in the documentation: https://pandas.pydata.org/pandas-docs/stable/user_guide/indexing.html#returning-a-view-versus-a-copy\n",
      "  df_1['status'] = None\n"
     ]
    },
    {
     "name": "stdout",
     "output_type": "stream",
     "text": [
      "[1/6] Running prompt...\n",
      "[2/6] Running prompt...\n",
      "[3/6] Running prompt...\n",
      "[4/6] Running prompt...\n",
      "[5/6] Running prompt...\n",
      "[6/6] Running prompt...\n"
     ]
    }
   ],
   "source": [
    "import re\n",
    "\n",
    "\n",
    "def parse_log_result(raw_output: str) -> dict:\n",
    "    \"\"\"\n",
    "    解析模型输出，如：\n",
    "    (0, 1)\n",
    "    (1, 0)\n",
    "    ...\n",
    "    返回：{0: 1, 1: 0, ...}\n",
    "    \"\"\"\n",
    "    return {\n",
    "        int(idx): int(status)\n",
    "        for idx, status in re.findall(r'\\((\\d+),\\s*(\\d+)\\)', raw_output)\n",
    "    }\n",
    "\n",
    "\n",
    "# 初始化 status 列为空\n",
    "df_1['status'] = None\n",
    "\n",
    "all_log_info = []\n",
    "# 遍历每个 prompt\n",
    "for i, prompt in enumerate(prompt_list):\n",
    "    print(f\"[{i+1}/{len(prompt_list)}] Running prompt...\")\n",
    "    output = run_prompt(prompt, API_KEYS[-1], API_URL)\n",
    "    all_log_info.append(output)"
   ]
  },
  {
   "cell_type": "code",
   "execution_count": 315,
   "id": "9cd4294b",
   "metadata": {},
   "outputs": [
    {
     "data": {
      "text/plain": [
       "360"
      ]
     },
     "execution_count": 315,
     "metadata": {},
     "output_type": "execute_result"
    }
   ],
   "source": [
    "all_info = \"\"\n",
    "for i in all_log_info:\n",
    "    all_info += i\n",
    "len([i for i in all_info.split(\"\\n\") if len(i) > 0])"
   ]
  },
  {
   "cell_type": "code",
   "execution_count": 317,
   "id": "1645fd60",
   "metadata": {},
   "outputs": [],
   "source": [
    "# all_log_info"
   ]
  },
  {
   "cell_type": "code",
   "execution_count": 319,
   "id": "00cc2bdc",
   "metadata": {},
   "outputs": [],
   "source": [
    "# [i for i in all_info.split(\"\\n\") if len(i) > 0]"
   ]
  },
  {
   "cell_type": "code",
   "execution_count": 327,
   "id": "f9373241",
   "metadata": {},
   "outputs": [
    {
     "name": "stderr",
     "output_type": "stream",
     "text": [
      "/var/folders/jw/phs9hmcj0r9bmsg0v_1pbn4w0000gn/T/ipykernel_4952/1822134455.py:1: SettingWithCopyWarning: \n",
      "A value is trying to be set on a copy of a slice from a DataFrame.\n",
      "Try using .loc[row_indexer,col_indexer] = value instead\n",
      "\n",
      "See the caveats in the documentation: https://pandas.pydata.org/pandas-docs/stable/user_guide/indexing.html#returning-a-view-versus-a-copy\n",
      "  df_1['status'] = [\n"
     ]
    },
    {
     "data": {
      "text/html": [
       "<div>\n",
       "<style scoped>\n",
       "    .dataframe tbody tr th:only-of-type {\n",
       "        vertical-align: middle;\n",
       "    }\n",
       "\n",
       "    .dataframe tbody tr th {\n",
       "        vertical-align: top;\n",
       "    }\n",
       "\n",
       "    .dataframe thead th {\n",
       "        text-align: right;\n",
       "    }\n",
       "</style>\n",
       "<table border=\"1\" class=\"dataframe\">\n",
       "  <thead>\n",
       "    <tr style=\"text-align: right;\">\n",
       "      <th></th>\n",
       "      <th>index</th>\n",
       "      <th>log</th>\n",
       "      <th>status</th>\n",
       "    </tr>\n",
       "  </thead>\n",
       "  <tbody>\n",
       "    <tr>\n",
       "      <th>0</th>\n",
       "      <td>1</td>\n",
       "      <td>Apr 23 14:43:31 czp-db1 kernel:  rport-15:0-18...</td>\n",
       "      <td>1</td>\n",
       "    </tr>\n",
       "    <tr>\n",
       "      <th>1</th>\n",
       "      <td>2</td>\n",
       "      <td>Apr 23 14:43:31 czp-db1 kernel: lpfc 0000:33:0...</td>\n",
       "      <td>1</td>\n",
       "    </tr>\n",
       "    <tr>\n",
       "      <th>2</th>\n",
       "      <td>3</td>\n",
       "      <td>Apr 23 14:43:31 czp-db1 kernel: sd 15:0:3:2: r...</td>\n",
       "      <td>1</td>\n",
       "    </tr>\n",
       "    <tr>\n",
       "      <th>3</th>\n",
       "      <td>4</td>\n",
       "      <td>Apr 23 14:43:31 czp-db1 kernel: sd 15:0:3:2: [...</td>\n",
       "      <td>1</td>\n",
       "    </tr>\n",
       "    <tr>\n",
       "      <th>4</th>\n",
       "      <td>5</td>\n",
       "      <td>Apr 23 14:43:31 czp-db1 kernel: sd 15:0:3:2: [...</td>\n",
       "      <td>0</td>\n",
       "    </tr>\n",
       "    <tr>\n",
       "      <th>...</th>\n",
       "      <td>...</td>\n",
       "      <td>...</td>\n",
       "      <td>...</td>\n",
       "    </tr>\n",
       "    <tr>\n",
       "      <th>355</th>\n",
       "      <td>356</td>\n",
       "      <td>Apr 23 15:59:10 czp-db1 kernel: ACPI: LAPIC (a...</td>\n",
       "      <td>0</td>\n",
       "    </tr>\n",
       "    <tr>\n",
       "      <th>356</th>\n",
       "      <td>357</td>\n",
       "      <td>Apr 23 15:59:10 czp-db1 kernel: ACPI: LAPIC (a...</td>\n",
       "      <td>0</td>\n",
       "    </tr>\n",
       "    <tr>\n",
       "      <th>357</th>\n",
       "      <td>358</td>\n",
       "      <td>Apr 23 15:59:10 czp-db1 kernel: ACPI: LAPIC (a...</td>\n",
       "      <td>0</td>\n",
       "    </tr>\n",
       "    <tr>\n",
       "      <th>358</th>\n",
       "      <td>359</td>\n",
       "      <td>Apr 23 15:59:10 czp-db1 kernel: ACPI: LAPIC (a...</td>\n",
       "      <td>0</td>\n",
       "    </tr>\n",
       "    <tr>\n",
       "      <th>359</th>\n",
       "      <td>360</td>\n",
       "      <td>Apr 23 15:59:10 czp-db1 kernel: ACPI: LAPIC (a...</td>\n",
       "      <td>0</td>\n",
       "    </tr>\n",
       "  </tbody>\n",
       "</table>\n",
       "<p>360 rows × 3 columns</p>\n",
       "</div>"
      ],
      "text/plain": [
       "     index                                                log status\n",
       "0        1  Apr 23 14:43:31 czp-db1 kernel:  rport-15:0-18...      1\n",
       "1        2  Apr 23 14:43:31 czp-db1 kernel: lpfc 0000:33:0...      1\n",
       "2        3  Apr 23 14:43:31 czp-db1 kernel: sd 15:0:3:2: r...      1\n",
       "3        4  Apr 23 14:43:31 czp-db1 kernel: sd 15:0:3:2: [...      1\n",
       "4        5  Apr 23 14:43:31 czp-db1 kernel: sd 15:0:3:2: [...      0\n",
       "..     ...                                                ...    ...\n",
       "355    356  Apr 23 15:59:10 czp-db1 kernel: ACPI: LAPIC (a...      0\n",
       "356    357  Apr 23 15:59:10 czp-db1 kernel: ACPI: LAPIC (a...      0\n",
       "357    358  Apr 23 15:59:10 czp-db1 kernel: ACPI: LAPIC (a...      0\n",
       "358    359  Apr 23 15:59:10 czp-db1 kernel: ACPI: LAPIC (a...      0\n",
       "359    360  Apr 23 15:59:10 czp-db1 kernel: ACPI: LAPIC (a...      0\n",
       "\n",
       "[360 rows x 3 columns]"
      ]
     },
     "execution_count": 327,
     "metadata": {},
     "output_type": "execute_result"
    }
   ],
   "source": [
    "df_1['status'] = [\n",
    "    i.split(\",\")[-1][:-1].strip() for i in all_info.split(\"\\n\") if len(i) > 0\n",
    "]\n",
    "df_1"
   ]
  },
  {
   "cell_type": "code",
   "execution_count": 330,
   "id": "2a13ad77",
   "metadata": {},
   "outputs": [
    {
     "data": {
      "text/html": [
       "<div>\n",
       "<style scoped>\n",
       "    .dataframe tbody tr th:only-of-type {\n",
       "        vertical-align: middle;\n",
       "    }\n",
       "\n",
       "    .dataframe tbody tr th {\n",
       "        vertical-align: top;\n",
       "    }\n",
       "\n",
       "    .dataframe thead th {\n",
       "        text-align: right;\n",
       "    }\n",
       "</style>\n",
       "<table border=\"1\" class=\"dataframe\">\n",
       "  <thead>\n",
       "    <tr style=\"text-align: right;\">\n",
       "      <th></th>\n",
       "      <th>index</th>\n",
       "      <th>log</th>\n",
       "      <th>status</th>\n",
       "    </tr>\n",
       "  </thead>\n",
       "  <tbody>\n",
       "    <tr>\n",
       "      <th>0</th>\n",
       "      <td>1</td>\n",
       "      <td>Apr 23 14:43:31 czp-db1 kernel:  rport-15:0-18...</td>\n",
       "      <td>1</td>\n",
       "    </tr>\n",
       "    <tr>\n",
       "      <th>1</th>\n",
       "      <td>2</td>\n",
       "      <td>Apr 23 14:43:31 czp-db1 kernel: lpfc 0000:33:0...</td>\n",
       "      <td>1</td>\n",
       "    </tr>\n",
       "    <tr>\n",
       "      <th>2</th>\n",
       "      <td>3</td>\n",
       "      <td>Apr 23 14:43:31 czp-db1 kernel: sd 15:0:3:2: r...</td>\n",
       "      <td>1</td>\n",
       "    </tr>\n",
       "    <tr>\n",
       "      <th>3</th>\n",
       "      <td>4</td>\n",
       "      <td>Apr 23 14:43:31 czp-db1 kernel: sd 15:0:3:2: [...</td>\n",
       "      <td>1</td>\n",
       "    </tr>\n",
       "    <tr>\n",
       "      <th>6</th>\n",
       "      <td>7</td>\n",
       "      <td>Apr 23 14:43:31 czp-db1 kernel: end_request: I...</td>\n",
       "      <td>1</td>\n",
       "    </tr>\n",
       "    <tr>\n",
       "      <th>7</th>\n",
       "      <td>8</td>\n",
       "      <td>Apr 23 14:43:31 czp-db1 kernel: device-mapper:...</td>\n",
       "      <td>1</td>\n",
       "    </tr>\n",
       "    <tr>\n",
       "      <th>11</th>\n",
       "      <td>12</td>\n",
       "      <td>Apr 23 15:59:10 czp-db1 kernel: Cannot find ma...</td>\n",
       "      <td>1</td>\n",
       "    </tr>\n",
       "    <tr>\n",
       "      <th>39</th>\n",
       "      <td>40</td>\n",
       "      <td>Apr 23 15:59:10 czp-db1 kernel: AMI BIOS detec...</td>\n",
       "      <td>1</td>\n",
       "    </tr>\n",
       "  </tbody>\n",
       "</table>\n",
       "</div>"
      ],
      "text/plain": [
       "    index                                                log status\n",
       "0       1  Apr 23 14:43:31 czp-db1 kernel:  rport-15:0-18...      1\n",
       "1       2  Apr 23 14:43:31 czp-db1 kernel: lpfc 0000:33:0...      1\n",
       "2       3  Apr 23 14:43:31 czp-db1 kernel: sd 15:0:3:2: r...      1\n",
       "3       4  Apr 23 14:43:31 czp-db1 kernel: sd 15:0:3:2: [...      1\n",
       "6       7  Apr 23 14:43:31 czp-db1 kernel: end_request: I...      1\n",
       "7       8  Apr 23 14:43:31 czp-db1 kernel: device-mapper:...      1\n",
       "11     12  Apr 23 15:59:10 czp-db1 kernel: Cannot find ma...      1\n",
       "39     40  Apr 23 15:59:10 czp-db1 kernel: AMI BIOS detec...      1"
      ]
     },
     "execution_count": 330,
     "metadata": {},
     "output_type": "execute_result"
    }
   ],
   "source": [
    "df_1[df_1['status']=='1']"
   ]
  },
  {
   "cell_type": "code",
   "execution_count": 235,
   "id": "7e323b46",
   "metadata": {},
   "outputs": [
    {
     "data": {
      "text/html": [
       "<div>\n",
       "<style scoped>\n",
       "    .dataframe tbody tr th:only-of-type {\n",
       "        vertical-align: middle;\n",
       "    }\n",
       "\n",
       "    .dataframe tbody tr th {\n",
       "        vertical-align: top;\n",
       "    }\n",
       "\n",
       "    .dataframe thead th {\n",
       "        text-align: right;\n",
       "    }\n",
       "</style>\n",
       "<table border=\"1\" class=\"dataframe\">\n",
       "  <thead>\n",
       "    <tr style=\"text-align: right;\">\n",
       "      <th></th>\n",
       "      <th>0</th>\n",
       "    </tr>\n",
       "  </thead>\n",
       "  <tbody>\n",
       "    <tr>\n",
       "      <th>0</th>\n",
       "      <td>(1, 1)</td>\n",
       "    </tr>\n",
       "    <tr>\n",
       "      <th>1</th>\n",
       "      <td>(2, 1)</td>\n",
       "    </tr>\n",
       "    <tr>\n",
       "      <th>2</th>\n",
       "      <td>(3, 1)</td>\n",
       "    </tr>\n",
       "    <tr>\n",
       "      <th>3</th>\n",
       "      <td>(4, 1)</td>\n",
       "    </tr>\n",
       "    <tr>\n",
       "      <th>4</th>\n",
       "      <td>(5, 0)</td>\n",
       "    </tr>\n",
       "    <tr>\n",
       "      <th>...</th>\n",
       "      <td>...</td>\n",
       "    </tr>\n",
       "    <tr>\n",
       "      <th>115</th>\n",
       "      <td>(116, 0)</td>\n",
       "    </tr>\n",
       "    <tr>\n",
       "      <th>116</th>\n",
       "      <td>(117, 0)</td>\n",
       "    </tr>\n",
       "    <tr>\n",
       "      <th>117</th>\n",
       "      <td>(118, 0)</td>\n",
       "    </tr>\n",
       "    <tr>\n",
       "      <th>118</th>\n",
       "      <td>(119, 0)</td>\n",
       "    </tr>\n",
       "    <tr>\n",
       "      <th>119</th>\n",
       "      <td>(120, 0)</td>\n",
       "    </tr>\n",
       "  </tbody>\n",
       "</table>\n",
       "<p>120 rows × 1 columns</p>\n",
       "</div>"
      ],
      "text/plain": [
       "            0\n",
       "0      (1, 1)\n",
       "1      (2, 1)\n",
       "2      (3, 1)\n",
       "3      (4, 1)\n",
       "4      (5, 0)\n",
       "..        ...\n",
       "115  (116, 0)\n",
       "116  (117, 0)\n",
       "117  (118, 0)\n",
       "118  (119, 0)\n",
       "119  (120, 0)\n",
       "\n",
       "[120 rows x 1 columns]"
      ]
     },
     "execution_count": 235,
     "metadata": {},
     "output_type": "execute_result"
    }
   ],
   "source": [
    "pd.DataFrame([i for i in all_info.split(\"\\n\") if len(i) > 0])"
   ]
  },
  {
   "cell_type": "code",
   "execution_count": 215,
   "id": "2235d4d5",
   "metadata": {},
   "outputs": [
    {
     "data": {
      "text/plain": [
       "' '"
      ]
     },
     "execution_count": 215,
     "metadata": {},
     "output_type": "execute_result"
    }
   ],
   "source": [
    "all_log_info[-1]"
   ]
  },
  {
   "cell_type": "code",
   "execution_count": null,
   "id": "92f2c532",
   "metadata": {},
   "outputs": [],
   "source": [
    "# prompt_list[4]"
   ]
  },
  {
   "cell_type": "code",
   "execution_count": null,
   "id": "b5cb19a8",
   "metadata": {},
   "outputs": [],
   "source": [
    "df[:160]"
   ]
  },
  {
   "cell_type": "code",
   "execution_count": null,
   "id": "cc220400",
   "metadata": {},
   "outputs": [],
   "source": [
    "log_info = run_prompt(prompt_list[0], API_KEYS[0], API_URL)"
   ]
  },
  {
   "cell_type": "code",
   "execution_count": null,
   "id": "d1f87158",
   "metadata": {},
   "outputs": [],
   "source": [
    "log_info.split(\"\\n\")[1:]"
   ]
  },
  {
   "cell_type": "code",
   "execution_count": null,
   "id": "a6bd73e9",
   "metadata": {},
   "outputs": [],
   "source": [
    "prompt_list[0].split(\"\\n\")[-1]"
   ]
  },
  {
   "cell_type": "code",
   "execution_count": null,
   "id": "e6e38c00",
   "metadata": {},
   "outputs": [],
   "source": [
    "import re\n",
    "\n",
    "def extract_index(log_line: str) -> int:\n",
    "    match = re.search(r'\\((\\d+)\\)', log_line)\n",
    "    if match:\n",
    "        return int(match.group(1))\n",
    "    else:\n",
    "        return None  # 或 raise ValueError(\"No index found\")\n",
    "\n",
    "log = prompt_list[0].split(\"\\n\")[-1]\n",
    "index = extract_index(log)\n",
    "print(index) \n"
   ]
  },
  {
   "cell_type": "code",
   "execution_count": null,
   "id": "7f1c44eb",
   "metadata": {},
   "outputs": [],
   "source": [
    "log_type_list = log_info.split(\"\\n\")[1:]"
   ]
  },
  {
   "cell_type": "code",
   "execution_count": null,
   "id": "400c6a1f",
   "metadata": {},
   "outputs": [],
   "source": [
    "log_type_list"
   ]
  },
  {
   "cell_type": "code",
   "execution_count": null,
   "id": "35afb13d",
   "metadata": {},
   "outputs": [],
   "source": [
    "import re\n",
    "\n",
    "status_list = [\n",
    "    int(re.search(r'\\((\\d+),\\s*(\\d+)\\)', i).group(2)) for i in log_type_list\n",
    "]\n",
    "len(status_list), len()"
   ]
  },
  {
   "cell_type": "code",
   "execution_count": null,
   "id": "60d94e9f",
   "metadata": {},
   "outputs": [],
   "source": [
    "# 创建空 status 列，初始化为 NaN\n",
    "df['status'] = None"
   ]
  },
  {
   "cell_type": "code",
   "execution_count": null,
   "id": "552fd4b2",
   "metadata": {},
   "outputs": [],
   "source": [
    "df['status'][:82] = status_list\n",
    "df[:82]"
   ]
  },
  {
   "cell_type": "code",
   "execution_count": null,
   "id": "ce3331b1",
   "metadata": {},
   "outputs": [],
   "source": [
    "\n",
    "import pandas as pd\n",
    "import re\n",
    "\n",
    "\n",
    "\n",
    "# 创建空 status 列，初始化为 NaN\n",
    "df['status'] = None\n",
    "\n",
    "# 遍历 log_type_list 解析出 index 和 status，并赋值到对应行\n",
    "for item in log_type_list:\n",
    "    match = re.match(r'\\((\\d+),\\s*(\\d+)\\)', item)\n",
    "    if match:\n",
    "        idx = int(match.group(1))\n",
    "        label = int(match.group(2))\n",
    "        if idx < len(df):  # 防止越界\n",
    "            df.at[idx, 'status'] = label\n",
    "\n",
    "df.iloc[:82]"
   ]
  },
  {
   "cell_type": "code",
   "execution_count": null,
   "id": "4b8a507c",
   "metadata": {},
   "outputs": [],
   "source": [
    "log_type_list"
   ]
  },
  {
   "cell_type": "code",
   "execution_count": null,
   "id": "ccf444a2",
   "metadata": {},
   "outputs": [],
   "source": [
    "prompt_list[0]"
   ]
  }
 ],
 "metadata": {
  "kernelspec": {
   "display_name": "ds_2024",
   "language": "python",
   "name": "python3"
  },
  "language_info": {
   "codemirror_mode": {
    "name": "ipython",
    "version": 3
   },
   "file_extension": ".py",
   "mimetype": "text/x-python",
   "name": "python",
   "nbconvert_exporter": "python",
   "pygments_lexer": "ipython3",
   "version": "3.10.13"
  }
 },
 "nbformat": 4,
 "nbformat_minor": 5
}
